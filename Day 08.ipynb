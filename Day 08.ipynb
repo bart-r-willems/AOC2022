{
 "cells": [
  {
   "cell_type": "markdown",
   "id": "da4e4244-45c0-4981-b4c1-7b29387a4d17",
   "metadata": {},
   "source": [
    "# Day 8: Tree Top Treehouse"
   ]
  },
  {
   "cell_type": "code",
   "execution_count": 6,
   "id": "28b5628c-eafb-4910-94b3-d713d05f687b",
   "metadata": {},
   "outputs": [],
   "source": [
    "test_data = '30373\\n25512\\n65332\\n33549\\n35390'.split('\\n')"
   ]
  },
  {
   "cell_type": "code",
   "execution_count": 7,
   "id": "d07428e4-5534-4967-b9aa-7f327c10c2ba",
   "metadata": {},
   "outputs": [],
   "source": [
    "data = test_data.copy()\n",
    "data = [line.strip() for line in open('Day 08 Input.txt')]"
   ]
  },
  {
   "cell_type": "code",
   "execution_count": 8,
   "id": "a66b3c05-b85e-47fe-b92f-adffa5942053",
   "metadata": {},
   "outputs": [],
   "source": [
    "# read tree data into x/y array\n",
    "length = len(data)\n",
    "width = len(data[0])\n",
    "\n",
    "top = {}\n",
    "for y, row in enumerate(data):\n",
    "    for x, tree in enumerate(row):\n",
    "        top[(x, y)] = int(tree)"
   ]
  },
  {
   "cell_type": "markdown",
   "id": "4af5aaac-0c82-4661-b4a0-31fd2251cf60",
   "metadata": {},
   "source": [
    "## Part 1"
   ]
  },
  {
   "cell_type": "code",
   "execution_count": 9,
   "id": "4a10ca0e-49ad-4300-b865-058a23ef0900",
   "metadata": {},
   "outputs": [
    {
     "name": "stdout",
     "output_type": "stream",
     "text": [
      "1736\n"
     ]
    }
   ],
   "source": [
    "# create a visibility matrix\n",
    "# check all the trees to see if they are visible\n",
    "visible = set()\n",
    "for x in range(width):\n",
    "    for y in range(length):\n",
    "        # study max heights\n",
    "        west_max = max([-1] + [top[i, y] for i in range(x)])\n",
    "        east_max = max([-1] + [top[i, y] for i in range(x + 1, width)])\n",
    "        north_max = max([-1] + [top[x, i] for i in range(y)])\n",
    "        south_max = max([-1] + [top[x, i] for i in range(y + 1, length)])\n",
    "        if top[(x, y)] > min(west_max, east_max, north_max, south_max):\n",
    "            visible.add((x, y))\n",
    "print(len(visible))"
   ]
  },
  {
   "cell_type": "markdown",
   "id": "efd76c66-d246-4a46-9ef5-3fa209559b87",
   "metadata": {},
   "source": [
    "## Part 2"
   ]
  },
  {
   "cell_type": "code",
   "execution_count": 10,
   "id": "73a3a53b-423a-42bc-80e8-cadb9c2cfa8b",
   "metadata": {},
   "outputs": [
    {
     "name": "stdout",
     "output_type": "stream",
     "text": [
      "268800\n"
     ]
    }
   ],
   "source": [
    "def add_pos(p1, p2):\n",
    "    return (p1[0] + p2[0], p1[1] + p2[1])\n",
    "\n",
    "def valid_pos(p):\n",
    "    return p[0] in range(width) and p[1] in range(length)\n",
    "\n",
    "def product(l):\n",
    "    result = 1\n",
    "    for x in l:\n",
    "        result *= x\n",
    "    return result\n",
    "\n",
    "# calculate viewing score for each tree\n",
    "tree_score = {}\n",
    "for x in range(width):\n",
    "    for y in range(length):\n",
    "        pos = (x, y)\n",
    "        # calculate scores for all directions\n",
    "        all_score = []\n",
    "        for direction in [(0, 1), (0, -1), (-1, 0), (1, 0)]:\n",
    "            score = 0\n",
    "            check_pos = pos\n",
    "            while True:\n",
    "                check_pos = add_pos(check_pos, direction)\n",
    "                if valid_pos(check_pos):\n",
    "                    score += 1\n",
    "                    if top[check_pos] >= top[pos]:\n",
    "                        break\n",
    "                else:\n",
    "                    break\n",
    "            all_score.append(score)\n",
    "        tree_score[pos] = product(all_score)\n",
    "                \n",
    "print(max(tree_score.values()))        \n",
    "        \n",
    "                              "
   ]
  },
  {
   "cell_type": "code",
   "execution_count": null,
   "id": "8d6fa3f8-23b1-4584-8333-b75c02299ae8",
   "metadata": {},
   "outputs": [],
   "source": []
  }
 ],
 "metadata": {
  "kernelspec": {
   "display_name": "Python 3",
   "language": "python",
   "name": "python3"
  },
  "language_info": {
   "codemirror_mode": {
    "name": "ipython",
    "version": 3
   },
   "file_extension": ".py",
   "mimetype": "text/x-python",
   "name": "python",
   "nbconvert_exporter": "python",
   "pygments_lexer": "ipython3",
   "version": "3.10.6"
  }
 },
 "nbformat": 4,
 "nbformat_minor": 5
}
