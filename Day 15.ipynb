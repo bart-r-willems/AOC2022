{
 "cells": [
  {
   "cell_type": "markdown",
   "id": "bb025dd8-80f8-4fa8-89f7-d3e647c79dbd",
   "metadata": {},
   "source": [
    "Day 15: Beacon Exclusion Zone"
   ]
  },
  {
   "cell_type": "code",
   "execution_count": 34,
   "id": "82a13f78-a80e-4cf4-b3d8-c9778c315248",
   "metadata": {},
   "outputs": [],
   "source": [
    "import re\n",
    "from itertools import combinations\n",
    "from tqdm.notebook import tqdm\n",
    "\n",
    "test_data = [line.strip() for line in open('Input/Day 15 Test.txt')]\n",
    "real_data = [line.strip() for line in open('Input/Day 15.txt')]\n",
    "data = real_data"
   ]
  },
  {
   "cell_type": "markdown",
   "id": "21b1ee28-9f97-4547-8b7a-565d8868a0f4",
   "metadata": {},
   "source": [
    "# Part 1"
   ]
  },
  {
   "cell_type": "code",
   "execution_count": 35,
   "id": "4a432995-2dca-4e61-978e-d371675383a6",
   "metadata": {},
   "outputs": [
    {
     "name": "stdout",
     "output_type": "stream",
     "text": [
      "4886370\n"
     ]
    }
   ],
   "source": [
    "# map out all beacons and the distance to their sensor\n",
    "\n",
    "class Signal:\n",
    "    def __init__(self, x, y, p, q):\n",
    "        self.sensor_x = x\n",
    "        self.sensor_y = y\n",
    "        self.beacon_x = p\n",
    "        self.beacon_y = q\n",
    "        self.distance = abs(x - p) + abs(y - q)\n",
    "\n",
    "    @property    \n",
    "    def sensor(self):\n",
    "        return (self.sensor_x, self.sensor_y)\n",
    "    \n",
    "    @property    \n",
    "    def beacon(self):\n",
    "        return (self.beacon, self.beacon_y)\n",
    "    \n",
    "        \n",
    "    def __repr__(self):\n",
    "        return f'Signal({(self.sensor_x, self.sensor_y)}, {(self.beacon_x, self.beacon_y)})'\n",
    "    \n",
    "    def exclusion(self, y):\n",
    "        result = []\n",
    "        x_min = self.sensor_x - (self.distance - abs(y - self.sensor_y))\n",
    "        x_max = self.sensor_x + (self.distance - abs(y - self.sensor_y))\n",
    "        return set(x for x in range(x_min, x_max + 1))\n",
    "    \n",
    "regex = re.compile(r'Sensor at x=(-?\\d+), y=(-?\\d+): closest beacon is at x=(-?\\d+), y=(-?\\d+)', re.I)\n",
    "signals = []\n",
    "for line in data:\n",
    "    coords = [int(x) for x in regex.findall(line)[0]]\n",
    "    signals.append(Signal(*coords))\n",
    "\n",
    "scan_row = 2000000    \n",
    "exclusion = set()\n",
    "for signal in signals:\n",
    "    exclusion |= (signal.exclusion(scan_row))\n",
    "# remove beacon positions\n",
    "for signal in signals:\n",
    "    if signal.beacon_x in exclusion and signal.beacon_y == scan_row:\n",
    "        exclusion.remove(signal.beacon_x)\n",
    "    \n",
    "print(len(exclusion))\n",
    "\n"
   ]
  },
  {
   "cell_type": "markdown",
   "id": "0db43326-dd80-43b3-b930-e79b2f7d4ddf",
   "metadata": {},
   "source": [
    "signals"
   ]
  },
  {
   "cell_type": "markdown",
   "id": "f7301246-81da-4d51-99f5-f540fc992b74",
   "metadata": {},
   "source": [
    "## Part 2\n",
    "The idea is that the beacon is *just* outside the range of two sensors, and hence must be on the boundary of them"
   ]
  },
  {
   "cell_type": "code",
   "execution_count": 44,
   "id": "abb061d0-2e77-4d5d-b223-22eaa322ad77",
   "metadata": {},
   "outputs": [],
   "source": [
    "# start by determining which sensors have overlapping ranges\n",
    "def distance(p1: (int, int), p2: (int, int)) -> int:\n",
    "    return abs(p1[0] - p2[0]) + abs(p1[1] - p2[1])\n",
    "\n",
    "def ring(center: (int, int), distance: int) -> set[int]:\n",
    "    '''return a set of points at manhattan distance from center'''\n",
    "    x, y = center\n",
    "    result = { (x - distance, y), (x + distance, y) }\n",
    "    for a in range(1 - distance, distance):\n",
    "        b = abs(distance - a)\n",
    "        result.add((x + a, y - b))\n",
    "        result.add((x + a, y + b))\n",
    "    return result\n",
    "\n",
    "def crosspoints(s1, s2):\n",
    "    CUTOFF = 4000000\n",
    "    r1 = ring(s1.sensor, s1.distance + 1)\n",
    "    r2 = ring(s2.sensor, s2.distance + 1)\n",
    "    inter = r1 & r2\n",
    "    return {p for p in inter if (p[0] >= 0) and (p[1] >= 0) and (p[0] <= CUTOFF) and (p[1] <= CUTOFF)}\n",
    " "
   ]
  },
  {
   "cell_type": "code",
   "execution_count": 39,
   "id": "5597bcde-ce14-489a-8599-e365ed70973c",
   "metadata": {},
   "outputs": [
    {
     "data": {
      "application/vnd.jupyter.widget-view+json": {
       "model_id": "8a728febc5fa4129ba5ec56fd508496e",
       "version_major": 2,
       "version_minor": 0
      },
      "text/plain": [
       "  0%|          | 0/703 [00:00<?, ?it/s]"
      ]
     },
     "metadata": {},
     "output_type": "display_data"
    },
    {
     "name": "stdout",
     "output_type": "stream",
     "text": [
      "2127776\n"
     ]
    }
   ],
   "source": [
    "investigate = set()\n",
    "signal_combs = list(combinations(signals, 2))\n",
    "for s1, s2 in tqdm(signal_combs):\n",
    "    if distance(s1.sensor, s2.sensor) < (s1.distance + s2.distance):\n",
    "        investigate.update(crosspoints(s1, s2))\n",
    "print(len(investigate))"
   ]
  },
  {
   "cell_type": "markdown",
   "id": "60cf5acc-93e3-4b91-bce0-63e216101b71",
   "metadata": {},
   "source": [
    "Now, for each of these points investigate if their distance is outside *each* sensor range"
   ]
  },
  {
   "cell_type": "code",
   "execution_count": 42,
   "id": "d5d74766-bdfc-45e0-9d05-f9438b6e7f1d",
   "metadata": {},
   "outputs": [
    {
     "data": {
      "application/vnd.jupyter.widget-view+json": {
       "model_id": "6162e54b4ea84bfbb4fe0ad08b445d2c",
       "version_major": 2,
       "version_minor": 0
      },
      "text/plain": [
       "  0%|          | 0/2127776 [00:00<?, ?it/s]"
      ]
     },
     "metadata": {},
     "output_type": "display_data"
    },
    {
     "name": "stdout",
     "output_type": "stream",
     "text": [
      "(2843633, 2948438)\n"
     ]
    }
   ],
   "source": [
    "for point in tqdm(investigate):\n",
    "    for sensor, beacondist in [(s.sensor, s.distance) for s in signals]:\n",
    "        if distance(sensor, point) <= beacondist:\n",
    "            break\n",
    "    else:\n",
    "        break\n",
    "print(point)"
   ]
  },
  {
   "cell_type": "code",
   "execution_count": 43,
   "id": "0e968fe4-37a8-4c6a-86d2-021fcf2a66c5",
   "metadata": {},
   "outputs": [
    {
     "name": "stdout",
     "output_type": "stream",
     "text": [
      "11374534948438\n"
     ]
    }
   ],
   "source": [
    "freq = point[0] * 4_000_000 + point[1]\n",
    "print(freq)"
   ]
  }
 ],
 "metadata": {
  "kernelspec": {
   "display_name": "Python 3",
   "language": "python",
   "name": "python3"
  },
  "language_info": {
   "codemirror_mode": {
    "name": "ipython",
    "version": 3
   },
   "file_extension": ".py",
   "mimetype": "text/x-python",
   "name": "python",
   "nbconvert_exporter": "python",
   "pygments_lexer": "ipython3",
   "version": "3.10.6"
  }
 },
 "nbformat": 4,
 "nbformat_minor": 5
}
