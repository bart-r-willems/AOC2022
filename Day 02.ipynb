{
 "cells": [
  {
   "cell_type": "markdown",
   "id": "87ff21cd-bc44-40a1-aaf1-5d75360899c2",
   "metadata": {},
   "source": [
    "# Day 2: Rock Paper Scissors"
   ]
  },
  {
   "cell_type": "code",
   "execution_count": 1,
   "id": "f88eaa04-eaa7-4a6b-bfc9-3a6a476a7c3d",
   "metadata": {},
   "outputs": [],
   "source": [
    "wins = ('A Y', 'B Z', 'C X')\n",
    "draws = ('A X', 'B Y', 'C Z')\n",
    "shapes = {'X': 1, 'Y': 2, 'Z': 3}\n",
    "\n",
    "def points(round):\n",
    "    response = round[-1]\n",
    "    score = shapes[response]\n",
    "    if round in wins:\n",
    "        return score + 6\n",
    "    elif round in draws:\n",
    "        return score + 3\n",
    "    else:\n",
    "        return score\n",
    "\n",
    "with open('Day 02 Input.txt', 'r') as f:\n",
    "    guide = [s.strip() for s in f]\n",
    "outcome = [points(round) for round in guide]"
   ]
  },
  {
   "cell_type": "code",
   "execution_count": 2,
   "id": "a7473dee-ca75-4a3b-bd6d-1a71ff03b930",
   "metadata": {},
   "outputs": [
    {
     "data": {
      "text/plain": [
       "10310"
      ]
     },
     "execution_count": 2,
     "metadata": {},
     "output_type": "execute_result"
    }
   ],
   "source": [
    "sum(outcome)"
   ]
  },
  {
   "cell_type": "markdown",
   "id": "cdf95a24-8dde-4577-9fbf-f471ec19ed17",
   "metadata": {},
   "source": [
    "# Part 2"
   ]
  },
  {
   "cell_type": "code",
   "execution_count": 3,
   "id": "e6ef095c-3995-49f3-9b27-c4041c998cbd",
   "metadata": {},
   "outputs": [
    {
     "name": "stdout",
     "output_type": "stream",
     "text": [
      "14859\n"
     ]
    }
   ],
   "source": [
    "play = {\n",
    "    'X': {'A': 3, 'B': 1, 'C': 2},\n",
    "    'Y': {'A': 4, 'B': 5, 'C': 6},\n",
    "    'Z': {'A': 8, 'B': 9, 'C': 7},\n",
    "}\n",
    "\n",
    "def updated_points(round):\n",
    "    choice = round[0]\n",
    "    response = round[-1]\n",
    "    return play[response][choice]\n",
    "\n",
    "updated_outcome = [updated_points(round) for round in guide]\n",
    "\n",
    "print(sum(updated_outcome))                "
   ]
  },
  {
   "cell_type": "code",
   "execution_count": null,
   "id": "8a9e8816-296b-4ebb-96e3-062c30a1925b",
   "metadata": {},
   "outputs": [],
   "source": []
  }
 ],
 "metadata": {
  "kernelspec": {
   "display_name": "Python 3",
   "language": "python",
   "name": "python3"
  },
  "language_info": {
   "codemirror_mode": {
    "name": "ipython",
    "version": 3
   },
   "file_extension": ".py",
   "mimetype": "text/x-python",
   "name": "python",
   "nbconvert_exporter": "python",
   "pygments_lexer": "ipython3",
   "version": "3.10.6"
  }
 },
 "nbformat": 4,
 "nbformat_minor": 5
}
