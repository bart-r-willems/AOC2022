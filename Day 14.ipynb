{
 "cells": [
  {
   "cell_type": "markdown",
   "id": "6f866334-a1ce-4938-b023-b6aec0e01915",
   "metadata": {},
   "source": [
    "# Day 14: Regolith Reservoir"
   ]
  },
  {
   "cell_type": "code",
   "execution_count": 45,
   "id": "33bd9fe1-60bd-4f1f-9098-3a60f7baa9a4",
   "metadata": {},
   "outputs": [],
   "source": [
    "test_data = [line.strip() for line in open('input/day 14 test.txt')]\n",
    "real_data = [line.strip() for line in open('input/day 14.txt')]\n",
    "data = real_data"
   ]
  },
  {
   "cell_type": "code",
   "execution_count": 79,
   "id": "e61a08f8-867c-456e-b5c2-b289a5910c83",
   "metadata": {},
   "outputs": [],
   "source": [
    "def place_tiles(data):\n",
    "    tiles = {}\n",
    "    for line in data:\n",
    "        points = [tuple(int(k) for k in point.split(',')) \n",
    "                               for point in line.split(' -> ')]\n",
    "        for point_pair in zip(points, points[1:]):\n",
    "            for p in draw_line(*point_pair):\n",
    "                tiles[p] = '#'\n",
    "    return tiles\n",
    "\n",
    "def draw_cave(tiles):\n",
    "    min_x = min(p[0] for p in tiles if tiles[p] in 'o#') - 2\n",
    "    max_x = max(p[0] for p in tiles if tiles[p] in 'o#') + 2\n",
    "    min_y = min(0, min(p[1] for p in tiles if tiles[p] == '#'))\n",
    "    max_y = max(p[1] for p in tiles if tiles[p] == '#') + 2\n",
    "    print('-' * (1 + max_x - min_x))\n",
    "    for y in range(min_y, max_y + 1):\n",
    "        print(''.join(tiles.get((x, y), ' ') for x in range(min_x, max_x + 1)))\n",
    "\n",
    "def draw_line(p1, p2):\n",
    "    X, Y = 0, 1\n",
    "    if p1[X] == p2[X]:\n",
    "        # vertical line\n",
    "        start = min(p1[Y], p2[Y])\n",
    "        finish = max(p1[Y], p2[Y])\n",
    "        return [(p1[X], y) for y in range(start, finish + 1)]\n",
    "    elif p1[Y] == p2[Y]:\n",
    "        # horizontal line\n",
    "        start = min(p1[X], p2[X])\n",
    "        finish = max(p1[X], p2[X])\n",
    "        return [(x, p1[Y]) for x in range(start, finish + 1)]       \n",
    "    else:\n",
    "        return None"
   ]
  },
  {
   "cell_type": "code",
   "execution_count": 80,
   "id": "6a1ad4b9-aefe-4672-9d79-4fe30497e30b",
   "metadata": {},
   "outputs": [],
   "source": [
    "def drop_sand(cave):\n",
    "    '''Return True if sand comes to rest'''\n",
    "    max_y = max(p[1] for p in cave if cave[p] == '#')\n",
    "    x = 500\n",
    "    y = 0\n",
    "    while True:\n",
    "        # move sand\n",
    "        if (x, y + 1) not in cave:\n",
    "            y += 1\n",
    "        elif (x - 1, y + 1) not in cave:\n",
    "            x -= 1\n",
    "            y += 1\n",
    "        elif (x + 1, y + 1) not in cave:\n",
    "            x += 1\n",
    "            y += 1\n",
    "        else:\n",
    "            # no moves available, come to a stop\n",
    "            cave[(x, y)] = 'o'\n",
    "            return True\n",
    "        if y >= max_y:\n",
    "            return False\n",
    "                "
   ]
  },
  {
   "cell_type": "code",
   "execution_count": 81,
   "id": "995514d9-1ec7-4cd5-8682-10ad1f62a4d0",
   "metadata": {},
   "outputs": [
    {
     "name": "stdout",
     "output_type": "stream",
     "text": [
      "1513 sand units.\n"
     ]
    }
   ],
   "source": [
    "cave = place_tiles(data)\n",
    "count = 0\n",
    "while drop_sand(cave):\n",
    "    count += 1\n",
    "# draw_cave(cave)\n",
    "print(f'{count} sand units.')"
   ]
  },
  {
   "cell_type": "markdown",
   "id": "ffbfb727-cdb3-46c8-965f-d579ce33d9c3",
   "metadata": {},
   "source": [
    "## Part 2"
   ]
  },
  {
   "cell_type": "code",
   "execution_count": 88,
   "id": "5b071b11-ce3a-4cfd-b3fe-cd9025ccd4e0",
   "metadata": {},
   "outputs": [],
   "source": [
    "def drop_sand(cave):\n",
    "    '''Return False if sand reaches top'''\n",
    "    max_y = max(p[1] for p in cave if cave[p] == '#')\n",
    "    x = 500\n",
    "    y = 0\n",
    "    while True:\n",
    "        # move sand\n",
    "        if (x, y + 1) not in cave:\n",
    "            y += 1\n",
    "        elif (x - 1, y + 1) not in cave:\n",
    "            x -= 1\n",
    "            y += 1\n",
    "        elif (x + 1, y + 1) not in cave:\n",
    "            x += 1\n",
    "            y += 1\n",
    "        else:\n",
    "            # no moves available, come to a stop\n",
    "            cave[(x, y)] = 'o'\n",
    "            return False if y == 0 else True\n",
    "        if y >= max_y + 1:\n",
    "            # hit bottom\n",
    "            cave[(x, y)] = 'o'\n",
    "            return True\n",
    "        if len(cave) > 1_000_000:\n",
    "            return False"
   ]
  },
  {
   "cell_type": "code",
   "execution_count": 89,
   "id": "bc6d59ac-4955-464c-9d04-1b1f4e3bc666",
   "metadata": {},
   "outputs": [
    {
     "name": "stdout",
     "output_type": "stream",
     "text": [
      "22646 sand units.\n"
     ]
    }
   ],
   "source": [
    "cave = place_tiles(real_data)\n",
    "count = 1\n",
    "while drop_sand(cave):\n",
    "    count += 1\n",
    "# draw_cave(cave)\n",
    "print(f'{count} sand units.')"
   ]
  },
  {
   "cell_type": "code",
   "execution_count": null,
   "id": "98dbc118-8000-478e-84ad-70cf736c2202",
   "metadata": {},
   "outputs": [],
   "source": []
  }
 ],
 "metadata": {
  "kernelspec": {
   "display_name": "Python 3",
   "language": "python",
   "name": "python3"
  },
  "language_info": {
   "codemirror_mode": {
    "name": "ipython",
    "version": 3
   },
   "file_extension": ".py",
   "mimetype": "text/x-python",
   "name": "python",
   "nbconvert_exporter": "python",
   "pygments_lexer": "ipython3",
   "version": "3.10.6"
  }
 },
 "nbformat": 4,
 "nbformat_minor": 5
}
