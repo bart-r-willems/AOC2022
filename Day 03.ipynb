{
 "cells": [
  {
   "cell_type": "code",
   "execution_count": 1,
   "id": "065d3bca-4f1e-4dec-adbe-c5e4738627bf",
   "metadata": {},
   "outputs": [],
   "source": [
    "sacks = [line.strip() for line in open('Day 03 Input.txt', 'r')]"
   ]
  },
  {
   "cell_type": "code",
   "execution_count": 10,
   "id": "5df814e1-f193-4e4f-a7e0-1c1fa008ac94",
   "metadata": {},
   "outputs": [
    {
     "name": "stdout",
     "output_type": "stream",
     "text": [
      "7811\n"
     ]
    }
   ],
   "source": [
    "PRIORITY = '_abcdefghijklmnopqrstuvwxyzABCDEFGHIJKLMNOPQRSTUVWXYZ'\n",
    "\n",
    "score = []\n",
    "for sack in sacks:\n",
    "    comp_size = len(sack) // 2\n",
    "    comp1 = set(sack[:comp_size])\n",
    "    comp2 = set(sack[comp_size:])\n",
    "    item = (comp1 & comp2).pop()\n",
    "    score.append(PRIORITY.index(item))\n",
    "print(sum(score))"
   ]
  },
  {
   "cell_type": "markdown",
   "id": "190d9343-fb0a-4514-8751-2acfe26cfb0e",
   "metadata": {},
   "source": [
    "# Part 2"
   ]
  },
  {
   "cell_type": "code",
   "execution_count": 13,
   "id": "1aeec33b-a464-457f-8227-52c4be1bc738",
   "metadata": {},
   "outputs": [
    {
     "name": "stdout",
     "output_type": "stream",
     "text": [
      "2639\n"
     ]
    }
   ],
   "source": [
    "score = []\n",
    "for s1, s2, s3 in zip(sacks[0::3], sacks[1::3], sacks[2::3]):\n",
    "    badge = (set(s1) & set(s2) & set(s3)).pop()\n",
    "    score.append(PRIORITY.index(badge))\n",
    "print(sum(score))"
   ]
  },
  {
   "cell_type": "code",
   "execution_count": null,
   "id": "e431e702-3776-4fa6-940d-77a09b47fe16",
   "metadata": {},
   "outputs": [],
   "source": []
  }
 ],
 "metadata": {
  "kernelspec": {
   "display_name": "Python 3",
   "language": "python",
   "name": "python3"
  },
  "language_info": {
   "codemirror_mode": {
    "name": "ipython",
    "version": 3
   },
   "file_extension": ".py",
   "mimetype": "text/x-python",
   "name": "python",
   "nbconvert_exporter": "python",
   "pygments_lexer": "ipython3",
   "version": "3.10.6"
  }
 },
 "nbformat": 4,
 "nbformat_minor": 5
}
