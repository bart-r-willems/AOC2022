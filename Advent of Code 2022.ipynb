{
 "cells": [
  {
   "cell_type": "markdown",
   "id": "649afa30-a817-4004-a0bb-613ac54d5199",
   "metadata": {},
   "source": [
    "# Advent of ode 2022\n",
    "\n",
    "[Advent of code web page (calendar)](https://adventofcode.com/2022)\n",
    "\n",
    "[Day 1: Calorie Counting](Day%2001.ipynb) <br>\n",
    "[Day 2: Rock Paper Scissors](Day%2002.ipynb) <br>\n",
    "[Day 3: Rucksack Reorganization](Day%2003.ipynb) <br>\n",
    "[Day 4: Camp Cleanup](Day%2004.ipynb) <br>"
   ]
  },
  {
   "cell_type": "code",
   "execution_count": null,
   "id": "501e6b03-9601-472b-9d12-c7fc1423ca73",
   "metadata": {},
   "outputs": [],
   "source": []
  }
 ],
 "metadata": {
  "kernelspec": {
   "display_name": "Python 3",
   "language": "python",
   "name": "python3"
  },
  "language_info": {
   "codemirror_mode": {
    "name": "ipython",
    "version": 3
   },
   "file_extension": ".py",
   "mimetype": "text/x-python",
   "name": "python",
   "nbconvert_exporter": "python",
   "pygments_lexer": "ipython3",
   "version": "3.10.6"
  }
 },
 "nbformat": 4,
 "nbformat_minor": 5
}
