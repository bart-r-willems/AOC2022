{
 "cells": [
  {
   "cell_type": "markdown",
   "id": "649afa30-a817-4004-a0bb-613ac54d5199",
   "metadata": {},
   "source": [
    "# Advent of Code 2022\n",
    "\n",
    "[AoC 2022 Site](https://adventofcode.com/2022)<br>\n",
    "[Day 1: Sonar Sweep](day_01.ipynb)<br>\n",
    "[Day 2: Dive!](day_02.ipynb)<br>\n",
    "[Day 3: Binary Diagnostic](day_03.ipynb)<br>\n",
    "[Day 4: Camp Cleanup](day%2004.ipynb)<br>\n",
    "[Day 5: Supply Stacks](day%2005.ipynb)<br>\n",
    "[Day 6: Turning Trouble](day%2006.ipynb)<br>\n",
    "[Day 7: No space left on device](day%2007.ipynb)<br>\n",
    "[Day 8: Tree Top Treehouse](day%2008.ipynb)<br>\n",
    "[Day 9: Rope Bridge](day%2009.ipynb)<br>\n",
    "[Day 10: ???](day%2010.ipynb)<br>\n",
    "[Day 11: ???](day%2011.ipynb)<br>\n",
    "[Day 12: ???](day%2012.ipynb)<br>\n",
    "[Day 13: ???](day%2013.ipynb)<br>\n",
    "[Day 14: ???](day%2014.ipynb)<br>\n",
    "[Day 15: ???](day%2015.ipynb)<br>\n",
    "[Day 16: ???](day%2016.ipynb)<br>\n",
    "[Day 17: ???](day%2017.ipynb)<br>\n",
    "[Day 18: ???](day%2018.ipynb)<br>\n",
    "[Day 19: ???](day%2019.ipynb)<br>\n",
    "[Day 20: ???](day%2020.ipynb)<br>\n",
    "[Day 21: ???](day%2021.ipynb)<br>\n",
    "[Day 22: ???](day%2022.ipynb)<br>\n",
    "[Day 23: ???](day%2023.ipynb)<br>\n",
    "[Day 24: ???](day%2024.ipynb)<br>\n",
    "[Day 25: ???](day%2025.ipynb)<br>"
   ]
  }
 ],
 "metadata": {
  "kernelspec": {
   "display_name": "Python 3",
   "language": "python",
   "name": "python3"
  },
  "language_info": {
   "codemirror_mode": {
    "name": "ipython",
    "version": 3
   },
   "file_extension": ".py",
   "mimetype": "text/x-python",
   "name": "python",
   "nbconvert_exporter": "python",
   "pygments_lexer": "ipython3",
   "version": "3.10.6"
  }
 },
 "nbformat": 4,
 "nbformat_minor": 5
}
