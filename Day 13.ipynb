{
 "cells": [
  {
   "cell_type": "markdown",
   "id": "f4e08a2a-71e0-4350-8ecc-b14f84d96641",
   "metadata": {},
   "source": [
    "# Day 13"
   ]
  },
  {
   "cell_type": "code",
   "execution_count": 1,
   "id": "344ee963-7e60-46a4-a68b-c5558f72665f",
   "metadata": {},
   "outputs": [],
   "source": [
    "import json"
   ]
  },
  {
   "cell_type": "code",
   "execution_count": 2,
   "id": "23c4f8fd-10c9-4df3-ad6b-a926c5b25788",
   "metadata": {},
   "outputs": [],
   "source": [
    "test_data = [line.strip() for line in open('input/day 13 test.txt')]\n",
    "full_data = [line.strip() for line in open('input/day 13.txt')]\n",
    "data = full_data"
   ]
  },
  {
   "cell_type": "markdown",
   "id": "8c84d7b8-49a0-4562-ba67-4ae11201ca1e",
   "metadata": {},
   "source": [
    "## Part 1"
   ]
  },
  {
   "cell_type": "code",
   "execution_count": 3,
   "id": "00792bbe-864c-49fe-950a-441fa0a00d29",
   "metadata": {},
   "outputs": [],
   "source": [
    "# group data\n",
    "text = '\\n'.join(data)\n",
    "groups = [tuple(json.loads(s) for s in group.split('\\n')) for group in '\\n'.join(data).split('\\n\\n')]"
   ]
  },
  {
   "cell_type": "code",
   "execution_count": 4,
   "id": "5ccc3fe6-8b52-46ec-9006-8c7e17d63994",
   "metadata": {},
   "outputs": [],
   "source": [
    "def compare_items(left, right, level=1):\n",
    "    # print(f'{\"  \" * level}Comparing {left} to {right}')\n",
    "    if isinstance(left, int) and isinstance(right, int):\n",
    "        # two integers\n",
    "        if left > right:\n",
    "            return False\n",
    "        elif right > left:\n",
    "            return True\n",
    "        else:\n",
    "            return None\n",
    "    elif isinstance(left, int) and isinstance(right, list):\n",
    "        return compare_items([left], right, level + 1)\n",
    "    elif isinstance(left, list) and isinstance(right, int):\n",
    "        return compare_items(left, [right], level + 1)\n",
    "    elif isinstance(left, list) and isinstance(right, list):\n",
    "        for l, r in zip(left, right):\n",
    "            check = compare_items(l, r, level + 1)\n",
    "            if check is not None:\n",
    "                return check\n",
    "        if len(left) > len(right):\n",
    "            return False\n",
    "        elif len(left) < len(right):\n",
    "            return True"
   ]
  },
  {
   "cell_type": "code",
   "execution_count": 5,
   "id": "7ce7c143-b19c-4b65-9a9f-527d4eca1ee2",
   "metadata": {},
   "outputs": [
    {
     "name": "stdout",
     "output_type": "stream",
     "text": [
      "Total: 6272\n"
     ]
    }
   ],
   "source": [
    "ttl = 0\n",
    "for i, group in enumerate(groups, 1):\n",
    "    compare = compare_items(*group)\n",
    "    # print(f'{\"-\" * 40}\\n{i:2}: {\"Right\" if compare else \"Not\"}\\n')\n",
    "    ttl += i if compare else 0\n",
    "print('Total:', ttl)"
   ]
  },
  {
   "cell_type": "markdown",
   "id": "721fa517-47d7-4038-a8b4-40d018439564",
   "metadata": {},
   "source": [
    "## Part 2"
   ]
  },
  {
   "cell_type": "code",
   "execution_count": 6,
   "id": "0a643ee2-37e6-4d2c-a9ee-1fb175d8d393",
   "metadata": {},
   "outputs": [],
   "source": [
    "packet_data = [line for line in data if line]\n",
    "packet_data.extend(['[[2]]', '[[6]]'])\n",
    "packets = [json.loads(s) for s in packet_data]"
   ]
  },
  {
   "cell_type": "code",
   "execution_count": 7,
   "id": "019d5c7c-f4f8-47cc-a87c-8892b95b1a8c",
   "metadata": {},
   "outputs": [],
   "source": [
    "for i in range(len(packets) - 1):\n",
    "    for j in range(i + 1, len(packets)):\n",
    "        order = compare_items(packets[i], packets[j])\n",
    "        if not order:\n",
    "            packets[i], packets[j] = packets[j], packets[i]"
   ]
  },
  {
   "cell_type": "code",
   "execution_count": 8,
   "id": "430a4b6a-86e8-47db-82f7-9dc3a5dc051a",
   "metadata": {},
   "outputs": [
    {
     "name": "stdout",
     "output_type": "stream",
     "text": [
      "22288\n"
     ]
    }
   ],
   "source": [
    "i1 = packets.index([[2]]) + 1\n",
    "i2 = packets.index([[6]]) + 1\n",
    "print(i1 * i2)"
   ]
  },
  {
   "cell_type": "code",
   "execution_count": null,
   "id": "0885aae1-7da9-4847-94e2-2a9b25987007",
   "metadata": {},
   "outputs": [],
   "source": []
  }
 ],
 "metadata": {
  "kernelspec": {
   "display_name": "Python 3",
   "language": "python",
   "name": "python3"
  },
  "language_info": {
   "codemirror_mode": {
    "name": "ipython",
    "version": 3
   },
   "file_extension": ".py",
   "mimetype": "text/x-python",
   "name": "python",
   "nbconvert_exporter": "python",
   "pygments_lexer": "ipython3",
   "version": "3.10.6"
  }
 },
 "nbformat": 4,
 "nbformat_minor": 5
}
