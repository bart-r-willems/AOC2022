{
 "cells": [
  {
   "cell_type": "code",
   "execution_count": 327,
   "id": "78c7866d-3f49-42d2-8272-b07eef634f19",
   "metadata": {},
   "outputs": [
    {
     "name": "stdout",
     "output_type": "stream",
     "text": [
      "423\n",
      "416\n"
     ]
    }
   ],
   "source": [
    "# Read the grid and save as a dict\n",
    "grid = {(i, j): c for i, l in enumerate(open(\"input/day 12.txt\")) for j, c in enumerate(l)}\n",
    "\n",
    "# Find start and end positions, and replace with \"a\", \"z\"\n",
    "S = {v: k for k, v in grid.items()}[\"S\"]\n",
    "E = {v: k for k, v in grid.items()}[\"E\"]\n",
    "grid[S], grid[E] = \"a\", \"z\"\n",
    "\n",
    "# Create graph\n",
    "NEIGHBOURS = {\n",
    "    (x, y): [(x + a, y + b)\n",
    "             for (a, b) in [(1, 0), (-1, 0), (0, 1), (0, -1)]\n",
    "             if (x + a, y + b) in grid and ord(grid[(x + a, y + b)]) - ord(grid[(x, y)]) <= 1\n",
    "    ]\n",
    "    for (x,y) in grid\n",
    "}\n",
    "\n",
    "\n",
    "# Breath First Search until we find the end position\n",
    "def bfs(start, end):\n",
    "    steps = {pos: 0 for pos in start}\n",
    "    Q1, Q2 = start, []\n",
    "    while len(Q1) > 0:\n",
    "        if end in steps:\n",
    "            return steps[end]\n",
    "        for pos in Q1:\n",
    "            for neigh in NEIGHBOURS[pos]:\n",
    "                if neigh not in steps:\n",
    "                    steps[neigh] = steps[pos] + 1\n",
    "                    Q2.append(neigh)\n",
    "        Q1, Q2 = Q2, []\n",
    "    return -1\n",
    "\n",
    "\n",
    "# Part 1\n",
    "p1 = bfs([S], E)\n",
    "print(p1)\n",
    "\n",
    "# Part 2\n",
    "p2 = bfs([k for k, v in grid.items() if v == \"a\"], E)\n",
    "print(p2)\n"
   ]
  },
  {
   "cell_type": "code",
   "execution_count": null,
   "id": "5b1cf046-2f0d-4755-b062-91f48d2cc335",
   "metadata": {},
   "outputs": [],
   "source": []
  }
 ],
 "metadata": {
  "kernelspec": {
   "display_name": "Python 3",
   "language": "python",
   "name": "python3"
  },
  "language_info": {
   "codemirror_mode": {
    "name": "ipython",
    "version": 3
   },
   "file_extension": ".py",
   "mimetype": "text/x-python",
   "name": "python",
   "nbconvert_exporter": "python",
   "pygments_lexer": "ipython3",
   "version": "3.10.6"
  }
 },
 "nbformat": 4,
 "nbformat_minor": 5
}
