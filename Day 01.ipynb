{
 "cells": [
  {
   "cell_type": "markdown",
   "id": "b90cc0df-dd4c-4c24-9e2d-296df9015867",
   "metadata": {},
   "source": [
    "# Day 1: Calorie Counting"
   ]
  },
  {
   "cell_type": "code",
   "execution_count": 1,
   "id": "b561b9e0-2267-492d-93ad-8e039c386ed7",
   "metadata": {},
   "outputs": [],
   "source": [
    "# read tge file as a list of strings and remove the linefeeds\n",
    "with open('Day 01 Input.txt', 'r') as f:\n",
    "    calories = [s.strip() for s in f.readlines()]\n",
    "# build a single string that is comma sepearated\n",
    "calories_string = ','.join(calories)\n",
    "# each elf will now be delimited with two commas. split again\n",
    "calories = calories_string.split(',,')\n",
    "# convert each elf string into a list of integers and sum it\n",
    "calories = [sum(int(c) for c in calo.split(',')) for calo in calories]"
   ]
  },
  {
   "cell_type": "markdown",
   "id": "9277ef8d-8509-4664-b032-a2da1521a19c",
   "metadata": {},
   "source": [
    "## The answer to part I\n",
    "The maximum calorie sum in the lst"
   ]
  },
  {
   "cell_type": "code",
   "execution_count": 2,
   "id": "61521510-1742-4b10-8eca-0764b70ef505",
   "metadata": {},
   "outputs": [
    {
     "data": {
      "text/plain": [
       "71023"
      ]
     },
     "execution_count": 2,
     "metadata": {},
     "output_type": "execute_result"
    }
   ],
   "source": [
    "max(calories)"
   ]
  },
  {
   "cell_type": "markdown",
   "id": "0e0a7ace-9b52-4da7-b691-d4e0ffbd6ca6",
   "metadata": {},
   "source": [
    "# Part 2"
   ]
  },
  {
   "cell_type": "code",
   "execution_count": 3,
   "id": "f3d438a3-777f-4cd8-9df0-24a068e48cf1",
   "metadata": {},
   "outputs": [
    {
     "data": {
      "text/plain": [
       "206289"
      ]
     },
     "execution_count": 3,
     "metadata": {},
     "output_type": "execute_result"
    }
   ],
   "source": [
    "# Sort the list in reverse order, and take \n",
    "# the sum of the first (highest) three elves.\n",
    "sum(sorted(calories, reverse=True)[:3])"
   ]
  },
  {
   "cell_type": "code",
   "execution_count": null,
   "id": "87dcf3d3-5065-4a3f-afca-5a1c7b3d938a",
   "metadata": {},
   "outputs": [],
   "source": []
  }
 ],
 "metadata": {
  "kernelspec": {
   "display_name": "Python 3",
   "language": "python",
   "name": "python3"
  },
  "language_info": {
   "codemirror_mode": {
    "name": "ipython",
    "version": 3
   },
   "file_extension": ".py",
   "mimetype": "text/x-python",
   "name": "python",
   "nbconvert_exporter": "python",
   "pygments_lexer": "ipython3",
   "version": "3.10.6"
  }
 },
 "nbformat": 4,
 "nbformat_minor": 5
}
