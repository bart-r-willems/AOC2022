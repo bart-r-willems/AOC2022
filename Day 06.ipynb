{
 "cells": [
  {
   "cell_type": "code",
   "execution_count": 1,
   "id": "753c3f53-fcfa-40f3-b6f3-5bde91dc30a2",
   "metadata": {},
   "outputs": [],
   "source": [
    "stream = open('Day 06 Input.txt').read()"
   ]
  },
  {
   "cell_type": "code",
   "execution_count": 8,
   "id": "50c04e3f-f199-46aa-a151-d873528a8938",
   "metadata": {},
   "outputs": [],
   "source": [
    "def find_marker(text, n):\n",
    "    '''\n",
    "    Return index of first position *after* marker in text\n",
    "    The marker is identified as the first sequence\n",
    "    of n unique characters\n",
    "    '''\n",
    "    for i in range(0, len(stream) - n):\n",
    "        window = stream[i:i + n]\n",
    "        if len(set(window)) == n:\n",
    "            return i + n\n",
    "    return None"
   ]
  },
  {
   "cell_type": "markdown",
   "id": "6177d6b0-e7b8-456d-bbcd-a3df4dd58dec",
   "metadata": {},
   "source": [
    "## Part 1\n",
    "Find marker length 4"
   ]
  },
  {
   "cell_type": "code",
   "execution_count": 10,
   "id": "47373e9f-7384-40b9-8d67-fbecf20dc1e0",
   "metadata": {},
   "outputs": [
    {
     "data": {
      "text/plain": [
       "1282"
      ]
     },
     "execution_count": 10,
     "metadata": {},
     "output_type": "execute_result"
    }
   ],
   "source": [
    "find_marker(stream, 4)"
   ]
  },
  {
   "cell_type": "markdown",
   "id": "ced81a54-4463-4be0-8f87-17e7255d5253",
   "metadata": {},
   "source": [
    "## Part 2\n",
    "Find marker length 14"
   ]
  },
  {
   "cell_type": "code",
   "execution_count": 11,
   "id": "ca370c84-b0e9-49a9-91fe-608471371fc6",
   "metadata": {},
   "outputs": [
    {
     "data": {
      "text/plain": [
       "3513"
      ]
     },
     "execution_count": 11,
     "metadata": {},
     "output_type": "execute_result"
    }
   ],
   "source": [
    "find_marker(stream, 14)"
   ]
  },
  {
   "cell_type": "code",
   "execution_count": null,
   "id": "bf5bb010-995a-464f-bbf2-138a51faf992",
   "metadata": {},
   "outputs": [],
   "source": []
  }
 ],
 "metadata": {
  "kernelspec": {
   "display_name": "Python 3",
   "language": "python",
   "name": "python3"
  },
  "language_info": {
   "codemirror_mode": {
    "name": "ipython",
    "version": 3
   },
   "file_extension": ".py",
   "mimetype": "text/x-python",
   "name": "python",
   "nbconvert_exporter": "python",
   "pygments_lexer": "ipython3",
   "version": "3.10.6"
  }
 },
 "nbformat": 4,
 "nbformat_minor": 5
}
