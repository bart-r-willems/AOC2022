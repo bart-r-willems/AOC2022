{
 "cells": [
  {
   "cell_type": "markdown",
   "id": "1a555dfb-1d50-4a4b-90a5-b680df086311",
   "metadata": {},
   "source": [
    "# Day 11: Monkey in the Middle"
   ]
  },
  {
   "cell_type": "code",
   "execution_count": 1,
   "id": "86e7b0a9-8f7a-42aa-9b50-99993abe3623",
   "metadata": {},
   "outputs": [],
   "source": [
    "test_data = [line.strip() for line in open('Input/Day 11 Test.txt')]\n",
    "real_data = [line.strip() for line in open('Input/Day 11.txt')]\n",
    "data = test_data.copy()"
   ]
  },
  {
   "cell_type": "code",
   "execution_count": 2,
   "id": "f7d8e42e-ec9d-4f45-bd0c-9642cdabc689",
   "metadata": {},
   "outputs": [],
   "source": [
    "import re\n",
    "from tqdm.notebook import tqdm"
   ]
  },
  {
   "cell_type": "code",
   "execution_count": 52,
   "id": "2909cece-1abc-4465-8c86-4639c8d413c3",
   "metadata": {},
   "outputs": [],
   "source": [
    "class Monkey:\n",
    "    def __init__(self, id):\n",
    "        self.id = id\n",
    "        self.counter = 0\n",
    "    \n",
    "    def __repr__(self):\n",
    "        return f\"Monkey({self.id})\"\n",
    "    \n",
    "    def describe(self):\n",
    "        return f'id:      {self.id}\\n' \\\n",
    "             + f'items:   {self.items}\\n' \\\n",
    "             + f'oper:    {self.operation}\\n' \\\n",
    "             + f'test:    {self.test}\\n' \\\n",
    "             + f'actions: {self.true_action}/{self.false_action}'\n",
    "    \n",
    "    def turn(self):\n",
    "        throw_list = [self.process_item(item) for item in self.items]\n",
    "        self.items = []\n",
    "        return throw_list\n",
    "    \n",
    "    def process_item(self, item):\n",
    "        item = self.inspect_item(item)\n",
    "        if self.test_item(item):\n",
    "            return (self.true_action, item)\n",
    "        else:\n",
    "            return (self.false_action, item)\n",
    "        \n",
    "    def test_item(self, item):\n",
    "        return item % self.test == 0\n",
    "    \n",
    "    def calc_item(self, x):\n",
    "        \n",
    "        \n",
    "    def inspect_item(self, item):\n",
    "        self.counter += 1\n",
    "        operation = self.operation[0]\n",
    "        parameter = item if self.operation[1] == 'old' else int(self.operation[1])\n",
    "        if operation == '*':\n",
    "            return (item * parameter) // 3\n",
    "        elif operation == '+':\n",
    "            return (item + parameter) // 3\n",
    "        else:\n",
    "            raise ValueError(f'Unknown operation \"{operation} for Monkey({self.id})')\n",
    "\n",
    "def show_items(monkeys):\n",
    "    for idx in sorted(monkeys):\n",
    "        m = monkeys[idx]\n",
    "        print(f'{m.id:2}: {m.items}')\n",
    "        \n",
    "def monkey_round(monkeys):\n",
    "    for idx in sorted(monkeys):\n",
    "        m = monkeys[idx]\n",
    "        throw_list = m.turn()\n",
    "        # print(f'{idx}: {throw_list}')\n",
    "        for recipient, item in throw_list:\n",
    "            monkeys[recipient].items.append(item)\n",
    "\n",
    "            \n",
    "class SuperMonkey(Monkey):\n",
    "    def inspect_item(self, item):\n",
    "        self.counter += 1\n",
    "        factor = 9699690 # 2 * 3 * 5 * 7 * 11 * 13 * 17 * 19\n",
    "        operation = self.operation[0]\n",
    "        parameter = item if self.operation[1] == 'old' else int(self.operation[1])\n",
    "        if operation == '*':\n",
    "            return (item * parameter) % factor\n",
    "        elif operation == '+':\n",
    "            return (item + parameter) % factor\n",
    "        else:\n",
    "            raise ValueError(f'Unknown operation \"{operation} for Monkey({self.id})')\n",
    "    "
   ]
  },
  {
   "cell_type": "code",
   "execution_count": 53,
   "id": "41b502d6-52d0-499b-9a61-371ce472c94c",
   "metadata": {},
   "outputs": [],
   "source": [
    "# parse input data\n",
    "def parse(data, MClass=Monkey):\n",
    "    monkeys = {}\n",
    "    for line in data:\n",
    "        if match := re.search(r'monkey (\\d+):', line, flags=re.I):\n",
    "            monkey = MClass(int(match.group(1)))\n",
    "            monkeys[monkey.id] = monkey\n",
    "        elif match := re.search(r'starting items: ((\\d+[,\\s]*)+)', line, flags=re.I):\n",
    "            monkey.items = [int(item) for item in match.group(1).split(', ')]\n",
    "        elif match := re.search(r'operation: new = old (.) (.*)', line, flags=re.I):\n",
    "            monkey.operation = (match.group(1), match.group(2))\n",
    "        elif match := re.search(r'test: (\\w*) .* (\\d*)', line, flags=re.I):\n",
    "            monkey.test = int(match.group(2))\n",
    "            # monkey.test_item = lambda x: ((x % int(match.group(2))) == 0)\n",
    "        elif match := re.search(r'if true: (\\w*) to monkey (\\d*)', line, flags=re.I):\n",
    "            monkey.true_action = int(match.group(2))\n",
    "        elif match := re.search(r'if false: (\\w*) to monkey (\\d*)', line, flags=re.I):\n",
    "            monkey.false_action = int(match.group(2))\n",
    "    return monkeys"
   ]
  },
  {
   "cell_type": "code",
   "execution_count": 54,
   "id": "22f7aed5-4010-4a78-9349-1a71bbc969e5",
   "metadata": {},
   "outputs": [
    {
     "name": "stdout",
     "output_type": "stream",
     "text": [
      "Monkey business list\n",
      "----------------------------------------------------\n",
      "Monkey  0:          213\n",
      "Monkey  1:          194\n",
      "Monkey  2:          245\n",
      "Monkey  3:          217\n",
      "Monkey  4:          230\n",
      "Monkey  5:           46\n",
      "Monkey  6:          216\n",
      "Monkey  7:           28\n",
      "----------  ----------- +\n",
      "                 56,350\n",
      "\n",
      "Output for puzzle: 56350\n"
     ]
    }
   ],
   "source": [
    "monkeys = parse(real_data)\n",
    "for i in range(1, 21):\n",
    "    # print(f'Round {i:2}')\n",
    "    monkey_round(monkeys)\n",
    "    # show_items(monkeys)\n",
    "ttl = []\n",
    "print('Monkey business list')\n",
    "print('----------------------------------------------------')\n",
    "for i in monkeys:\n",
    "    print(f'Monkey {i:2}: {monkeys[i].counter:12,}')\n",
    "    ttl.append(monkeys[i].counter)\n",
    "ttl.sort(reverse=True)\n",
    "mb = ttl[0] * ttl[1]\n",
    "print('----------  ----------- +')\n",
    "print(f'           {mb:12,}')\n",
    "print(f'\\nOutput for puzzle: {mb}')\n"
   ]
  },
  {
   "cell_type": "markdown",
   "id": "dd8e171c-a6c1-4101-bcff-ccfee8681637",
   "metadata": {},
   "source": [
    "## Part 2"
   ]
  },
  {
   "cell_type": "code",
   "execution_count": 56,
   "id": "f2e752b1-3fd8-49c2-8f33-7c2eb8956b0b",
   "metadata": {},
   "outputs": [
    {
     "data": {
      "application/vnd.jupyter.widget-view+json": {
       "model_id": "995c0d072a0d49949f7186f36114d4f1",
       "version_major": 2,
       "version_minor": 0
      },
      "text/plain": [
       "  0%|          | 0/1000 [00:00<?, ?it/s]"
      ]
     },
     "metadata": {},
     "output_type": "display_data"
    },
    {
     "name": "stdout",
     "output_type": "stream",
     "text": [
      "Monkey business list\n",
      "----------------------------------------------------\n",
      "Monkey  0:        5,133\n",
      "Monkey  1:        4,863\n",
      "Monkey  2:          170\n",
      "Monkey  3:        5,124\n",
      "----------  ----------- +\n",
      "             26,301,492\n",
      "\n",
      "Output for puzzle: 26301492\n"
     ]
    }
   ],
   "source": [
    "# monkeys = supermonkeys()\n",
    "monkeys = parse(test_data, SuperMonkey)\n",
    "n = 1000\n",
    "for i in tqdm(range(n), total=n):\n",
    "    monkey_round(monkeys)\n",
    "ttl = []\n",
    "print('Monkey business list')\n",
    "print('----------------------------------------------------')\n",
    "for i in monkeys:\n",
    "    print(f'Monkey {i:2}: {monkeys[i].counter:12,}')\n",
    "    ttl.append(monkeys[i].counter)\n",
    "ttl.sort(reverse=True)\n",
    "mb = ttl[0] * ttl[1]\n",
    "print('----------  ----------- +')\n",
    "print(f'           {mb:12,}')\n",
    "print(f'\\nOutput for puzzle: {mb}')"
   ]
  },
  {
   "cell_type": "code",
   "execution_count": 12,
   "id": "eeac3e44-2dab-48ba-975e-357ec59d8c10",
   "metadata": {},
   "outputs": [],
   "source": [
    "class SuperMonkey:\n",
    "    def __init__(self):\n",
    "        self.counter = 0\n",
    "\n",
    "    def turn(self):\n",
    "        '''\n",
    "        self.calc: lambda calculating new stress level\n",
    "        self.test: lambda to test value\n",
    "        self.yes destination if test is true\n",
    "        self.no destination if test is false\n",
    "        '''\n",
    "\n",
    "        throw_list = []\n",
    "        for item in self.items:\n",
    "            value = self.calc(item)\n",
    "            if self.test(value):\n",
    "                throw_list.append((self.yes, value))\n",
    "            else:\n",
    "                throw_list.append((self.no, value))\n",
    "        self.counter += len(self.items)\n",
    "        self.items = []\n",
    "        return throw_list"
   ]
  },
  {
   "cell_type": "code",
   "execution_count": 57,
   "id": "1dc90c36-440c-4fe6-9802-40c8612f9959",
   "metadata": {},
   "outputs": [],
   "source": [
    "# test data\n",
    "def testmonkeys():\n",
    "    monkeys = {i: SuperMonkey() for i in range(4)}\n",
    "\n",
    "    monkeys[0].items = [79, 98]\n",
    "    monkeys[0].calc = lambda x: (x * 19) % 96577\n",
    "    monkeys[0].test = lambda x: x % 23 == 0\n",
    "    monkeys[0].yes = 2\n",
    "    monkeys[0].no = 3\n",
    "\n",
    "    monkeys[1].items = [54, 65, 75, 74]\n",
    "    monkeys[1].calc = lambda x: (x + 6) % 96577\n",
    "    monkeys[1].test = lambda x: x % 19 == 0\n",
    "    monkeys[1].yes = 2\n",
    "    monkeys[1].no = 0\n",
    "\n",
    "    monkeys[2].items = [79, 60, 97]\n",
    "    monkeys[2].calc = lambda x: (x * x) % 96577\n",
    "    monkeys[2].test = lambda x: x % 13 == 0\n",
    "    monkeys[2].yes = 1\n",
    "    monkeys[2].no = 3\n",
    "\n",
    "    monkeys[3].items = [74]\n",
    "    monkeys[3].calc = lambda x: (x + 3) % 96577\n",
    "    monkeys[3].test = lambda x: x % 17 == 0\n",
    "    monkeys[3].yes = 0\n",
    "    monkeys[3].no = 1\n",
    "\n",
    "    return monkeys"
   ]
  },
  {
   "cell_type": "code",
   "execution_count": 58,
   "id": "8a9da7e2-0c93-4e79-a0da-c3bea25ea971",
   "metadata": {},
   "outputs": [],
   "source": [
    "def supermonkeys():\n",
    "    monkeys = {i: SuperMonkey() for i in range(8)}\n",
    "\n",
    "    monkeys[0].items = [97, 81, 57, 57, 91, 61]\n",
    "    monkeys[0].calc = lambda x: (x * 7) % 9699690\n",
    "    monkeys[0].test = lambda x: x % 11 == 0\n",
    "    monkeys[0].yes = 5\n",
    "    monkeys[0].no = 6\n",
    "\n",
    "    monkeys[1].items = [88, 62, 68, 90]\n",
    "    monkeys[1].calc = lambda x: (x * 17) % 9699690\n",
    "    monkeys[1].test = lambda x: x % 19 == 0\n",
    "    monkeys[1].yes = 4\n",
    "    monkeys[1].no = 2\n",
    "\n",
    "    monkeys[2].items = [74, 87]\n",
    "    monkeys[2].calc = lambda x: (x + 2) % 9699690\n",
    "    monkeys[2].test = lambda x: x % 5 == 0\n",
    "    monkeys[2].yes = 7\n",
    "    monkeys[2].no = 4\n",
    "\n",
    "    monkeys[3].items = [53, 81, 60, 87, 90, 99, 75]\n",
    "    monkeys[3].calc = lambda x: (x + 1) % 9699690\n",
    "    monkeys[3].test = lambda x: x % 2 == 0\n",
    "    monkeys[3].yes = 2\n",
    "    monkeys[3].no = 1\n",
    "\n",
    "    monkeys[4].items = [57]\n",
    "    monkeys[4].calc = lambda x: (x + 6) % 9699690\n",
    "    monkeys[4].test = lambda x: x % 13 == 0\n",
    "    monkeys[4].yes = 7\n",
    "    monkeys[4].no = 0\n",
    "\n",
    "    monkeys[5].items = [54, 84, 91, 55, 59, 72, 75, 70]\n",
    "    monkeys[5].calc = lambda x: (x * x) % 9699690\n",
    "    monkeys[5].test = lambda x: x % 7 == 0\n",
    "    monkeys[5].yes = 6\n",
    "    monkeys[5].no = 3\n",
    "\n",
    "    monkeys[6].items = [95, 79, 79, 68, 78]\n",
    "    monkeys[6].calc = lambda x: (x + 3) % 9699690\n",
    "    monkeys[6].test = lambda x: x % 3 == 0\n",
    "    monkeys[6].yes = 1\n",
    "    monkeys[6].no = 3\n",
    "\n",
    "    monkeys[7].items = [61, 97, 67]\n",
    "    monkeys[7].calc = lambda x: (x + 4) % 9699690\n",
    "    monkeys[7].test = lambda x: x % 17 == 0\n",
    "    monkeys[7].yes = 0\n",
    "    monkeys[7].no = 5\n",
    "    \n",
    "    return monkeys\n",
    "\n"
   ]
  },
  {
   "cell_type": "code",
   "execution_count": 203,
   "id": "884601bd-1238-46fc-ad7a-1cce5fc1fd87",
   "metadata": {},
   "outputs": [],
   "source": [
    "m = monkeys[0]"
   ]
  },
  {
   "cell_type": "code",
   "execution_count": 205,
   "id": "83804975-4d41-45f1-9a0d-1ab843dd8caa",
   "metadata": {},
   "outputs": [
    {
     "data": {
      "text/plain": [
       "[(3, 1140), (3, 1349), (3, 1539), (3, 1520)]"
      ]
     },
     "execution_count": 205,
     "metadata": {},
     "output_type": "execute_result"
    }
   ],
   "source": [
    "m.turn()"
   ]
  },
  {
   "cell_type": "code",
   "execution_count": 235,
   "id": "f3ce69e2-591f-4e63-b7ca-f87b3bb409ca",
   "metadata": {},
   "outputs": [
    {
     "data": {
      "text/plain": [
       "905"
      ]
     },
     "execution_count": 235,
     "metadata": {},
     "output_type": "execute_result"
    }
   ],
   "source": [
    "i"
   ]
  },
  {
   "cell_type": "markdown",
   "id": "2fc682db-d54a-4afa-a407-58a4bede19f5",
   "metadata": {},
   "source": [
    "# Day 11: Monkey in the Middle"
   ]
  },
  {
   "cell_type": "code",
   "execution_count": 38,
   "id": "b27677ab-ba3b-47a3-8b86-ea4af28e4394",
   "metadata": {},
   "outputs": [],
   "source": [
    "class Monkey:\n",
    "    def __init__(self, id):\n",
    "        self.id = id\n",
    "        self.counter = 0\n",
    "    \n",
    "    def __repr__(self):\n",
    "        return f'Monkey({self.id})'\n",
    "    \n",
    "    def inspect(self, item):\n",
    "        value = self.operation(item)\n",
    "        value = self.post_op(value)\n",
    "        if self.test(value):\n",
    "            return (self.true_action, value)\n",
    "        else:\n",
    "            return (self.false_action, value)\n",
    "        \n",
    "    def turn(self):\n",
    "        self.counter += len(self.items)\n",
    "        throw_list = [self.inspect(item) for item in self.items]\n",
    "        self.items = []\n",
    "        return throw_list\n",
    "                \n",
    "    def post_op(self, item):\n",
    "        return (item // 3) % 9699690\n",
    "    \n",
    "class SuperMonkey(Monkey):\n",
    "    def __repr__(self):\n",
    "        return f'SuperMonkey({self.id})'        \n",
    "        \n",
    "    def post_op(self, item):\n",
    "        return item % 9699690"
   ]
  },
  {
   "cell_type": "code",
   "execution_count": 39,
   "id": "ca96c81c-0835-4ddb-9ae9-08554c4e7833",
   "metadata": {},
   "outputs": [],
   "source": [
    "def parse_data(data, monkey_class=Monkey):\n",
    "    monkeys = {}\n",
    "    for line in data:\n",
    "        if match := re.search(r'monkey (\\d+):', line, flags=re.I):\n",
    "            monkey = monkey_class(int(match.group(1)))\n",
    "            monkeys[monkey.id] = monkey\n",
    "        elif match := re.search(r'starting items: ((\\d+[,\\s]*)+)', line, flags=re.I):\n",
    "            monkey.items = [int(item) for item in match.group(1).split(', ')]\n",
    "        elif match := re.search(r'operation: new = old (.) (.*)', line, flags=re.I):\n",
    "            if match.group(1) == '+' and match.group(2) == 'old':\n",
    "                monkey.operation = lambda x: x + x\n",
    "            elif match.group(1) == '+':\n",
    "                monkey.operation = lambda x: x + int(match.group(2))\n",
    "            elif match.group(1) == '*' and match.group(2) == 'old':\n",
    "                monkey.operation = lambda x: x * x\n",
    "            elif match.group(1) == '*':\n",
    "                monkey.operation = lambda x: x * int(match.group(2))\n",
    "        elif match := re.search(r'test: (\\w*) .* (\\d*)', line, flags=re.I):\n",
    "            monkey.test = lambda x: x % int(match.group(2)) == 0\n",
    "            # monkey.test_item = lambda x: ((x % int(match.group(2))) == 0)\n",
    "        elif match := re.search(r'if true: (\\w*) to monkey (\\d*)', line, flags=re.I):\n",
    "            monkey.true_action = int(match.group(2))\n",
    "        elif match := re.search(r'if false: (\\w*) to monkey (\\d*)', line, flags=re.I):\n",
    "            monkey.false_action = int(match.group(2))                                                     \n",
    "            \n",
    "    return monkeys"
   ]
  },
  {
   "cell_type": "code",
   "execution_count": 40,
   "id": "2069e5ad-b077-41d3-af45-627a9a8919d2",
   "metadata": {},
   "outputs": [],
   "source": [
    "def show_items(monkeys):\n",
    "    for idx in sorted(monkeys):\n",
    "        m = monkeys[idx]\n",
    "        print(f'{m.id:2}: {m.items}')\n",
    "        \n",
    "def monkey_round(monkeys):\n",
    "    for idx in sorted(monkeys):\n",
    "        m = monkeys[idx]\n",
    "        throw_list = m.turn()\n",
    "        # print(f'{idx}: {throw_list}')\n",
    "        for recipient, item in throw_list:\n",
    "            monkeys[recipient].items.append(item)"
   ]
  },
  {
   "cell_type": "code",
   "execution_count": 42,
   "id": "5a946c35-5b87-439c-8070-b1e32dd543c3",
   "metadata": {},
   "outputs": [
    {
     "data": {
      "application/vnd.jupyter.widget-view+json": {
       "model_id": "33129f31d6114228a39801b95d56c949",
       "version_major": 2,
       "version_minor": 0
      },
      "text/plain": [
       "  0%|          | 0/20 [00:00<?, ?it/s]"
      ]
     },
     "metadata": {},
     "output_type": "display_data"
    },
    {
     "name": "stdout",
     "output_type": "stream",
     "text": [
      "\n",
      "Round  1\n",
      " 0: [25]\n",
      " 1: [2080, 1200, 3136, 225, 341, 108, 161, 208, 208]\n",
      " 2: []\n",
      " 3: []\n",
      "\n",
      "Round  2\n",
      " 0: []\n",
      " 1: [21, 160083, 53333, 364008, 1875, 4332, 432, 972, 1587, 1587]\n",
      " 2: []\n",
      " 3: []\n",
      "\n",
      "Round  3\n",
      " 0: []\n",
      " 1: [16, 8262177, 8355528, 9131515, 130208, 695045, 6912, 34992, 93280, 93280]\n",
      " 2: []\n",
      " 3: []\n",
      "\n",
      "Round  4\n",
      " 0: []\n",
      " 1: [8, 7628210, 1456482, 3191911, 7159976, 5954681, 1769472, 6550872, 2168446, 2168446]\n",
      " 2: []\n",
      " 3: []\n",
      "\n",
      "Round  5\n",
      " 0: []\n",
      " 1: [3, 6062313, 652345, 6713253, 9109617, 7635265, 4323042, 3688035, 5607148, 5607148]\n",
      " 2: []\n",
      " 3: []\n",
      "\n",
      "Round  6\n",
      " 0: []\n",
      " 1: [0, 4614090, 8914341, 5359017, 1661920, 6648581, 3904332, 9642858, 270300, 270300]\n",
      " 2: []\n",
      " 3: []\n",
      "\n",
      "Round  7\n",
      " 0: []\n",
      " 1: [0, 4894153, 8220616, 1002240, 2430836, 72205, 5338905, 3228765, 9489513, 9489513]\n",
      " 2: []\n",
      " 3: []\n",
      "\n",
      "Round  8\n",
      " 0: []\n",
      " 1: [0, 4271085, 9506098, 4837650, 6280167, 8795431, 5384188, 2414868, 7617650, 7617650]\n",
      " 2: []\n",
      " 3: []\n",
      "\n",
      "Round  9\n",
      " 0: []\n",
      " 1: [0, 3910725, 6416367, 8202433, 5253820, 7628670, 5975667, 1723415, 8545636, 8545636]\n",
      " 2: []\n",
      " 3: []\n",
      "\n",
      "Round 10\n",
      " 0: []\n",
      " 1: [0, 3129945, 5161150, 7142935, 813246, 3537660, 7263987, 1841971, 6748245, 6748245]\n",
      " 2: []\n",
      " 3: []\n",
      "\n",
      "Round 11\n",
      " 0: []\n",
      " 1: [0, 8792268, 7385973, 1506051, 3432991, 850103, 3900260, 1756083, 1718115, 1718115]\n",
      " 2: []\n",
      " 3: []\n",
      "\n",
      "Round 12\n",
      " 0: []\n",
      " 1: [0, 4248095, 1734980, 7707363, 1299943, 4363098, 2242206, 1983690, 5133018, 5133018]\n",
      " 2: []\n",
      " 3: []\n",
      "\n",
      "Round 13\n",
      " 0: []\n",
      " 1: [0, 5669511, 8835806, 5086320, 4607652, 9087265, 8000628, 3862050, 165205, 165205]\n",
      " 2: []\n",
      " 3: []\n",
      "\n",
      "Round 14\n",
      " 0: []\n",
      " 1: [0, 3176706, 706980, 7787263, 7850635, 284898, 2501465, 6595953, 2060448, 2060448]\n",
      " 2: []\n",
      " 3: []\n",
      "\n",
      "Round 15\n",
      " 0: []\n",
      " 1: [0, 9360121, 4870013, 6690315, 6942811, 8976175, 8049081, 4105040, 6764385, 6764385]\n",
      " 2: []\n",
      " 3: []\n",
      "\n",
      "Round 16\n",
      " 0: []\n",
      " 1: [0, 7106073, 4827681, 5719418, 5434683, 7997241, 6216306, 7650776, 9125968, 9125968]\n",
      " 2: []\n",
      " 3: []\n",
      "\n",
      "Round 17\n",
      " 0: []\n",
      " 1: [0, 6023190, 9033363, 6653793, 6113420, 3493506, 3273611, 1409220, 6073900, 6073900]\n",
      " 2: []\n",
      " 3: []\n",
      "\n",
      "Round 18\n",
      " 0: []\n",
      " 1: [0, 660693, 5316897, 6712420, 5462253, 6382311, 7108095, 8839620, 3663976, 3663976]\n",
      " 2: []\n",
      " 3: []\n",
      "\n",
      "Round 19\n",
      " 0: []\n",
      " 1: [0, 7547580, 944130, 7741596, 7551417, 2046126, 3540538, 4049730, 5475808, 5475808]\n",
      " 2: []\n",
      " 3: []\n",
      "\n",
      "Round 20\n",
      " 0: []\n",
      " 1: [0, 3043470, 6082963, 8975671, 5147220, 1185581, 8195187, 5015520, 8432997, 8432997]\n",
      " 2: []\n",
      " 3: []\n",
      "Monkey business list\n",
      "----------------------------------------------------\n",
      "Monkey  0:            3\n",
      "Monkey  1:          193\n",
      "Monkey  2:          199\n",
      "Monkey  3:            1\n",
      "----------  ----------- +\n",
      "                 38,407\n",
      "\n",
      "Output for puzzle: 38407\n"
     ]
    }
   ],
   "source": [
    "monkeys = parse_data(test_data, Monkey)\n",
    "n = 20\n",
    "for i in tqdm(range(n), total=n):\n",
    "    monkey_round(monkeys)\n",
    "    print(f'\\nRound{i+1:3}')\n",
    "    show_items(monkeys)\n",
    "ttl = []\n",
    "print('Monkey business list')\n",
    "print('----------------------------------------------------')\n",
    "for i in monkeys:\n",
    "    print(f'Monkey {i:2}: {monkeys[i].counter:12,}')\n",
    "    ttl.append(monkeys[i].counter)\n",
    "ttl.sort(reverse=True)\n",
    "mb = ttl[0] * ttl[1]\n",
    "print('----------  ----------- +')\n",
    "print(f'           {mb:12,}')\n",
    "print(f'\\nOutput for puzzle: {mb}')"
   ]
  },
  {
   "cell_type": "code",
   "execution_count": 43,
   "id": "15a46f7d-ac10-44d2-9e47-897adda330c1",
   "metadata": {},
   "outputs": [
    {
     "data": {
      "text/plain": [
       "Monkey(0)"
      ]
     },
     "execution_count": 43,
     "metadata": {},
     "output_type": "execute_result"
    }
   ],
   "source": [
    "m = monkeys[0]\n",
    "m"
   ]
  },
  {
   "cell_type": "code",
   "execution_count": 45,
   "id": "b1f7cd1f-0724-41a9-a632-4fb8aaad2648",
   "metadata": {},
   "outputs": [
    {
     "data": {
      "text/plain": [
       "1"
      ]
     },
     "execution_count": 45,
     "metadata": {},
     "output_type": "execute_result"
    }
   ],
   "source": [
    "m.operation(1)"
   ]
  },
  {
   "cell_type": "code",
   "execution_count": 24,
   "id": "97dbf7e4-1b4e-4156-99c1-0bd6c98f818b",
   "metadata": {},
   "outputs": [
    {
     "data": {
      "text/plain": [
       "True"
      ]
     },
     "execution_count": 24,
     "metadata": {},
     "output_type": "execute_result"
    }
   ],
   "source": [
    "m.test(17)"
   ]
  },
  {
   "cell_type": "code",
   "execution_count": 46,
   "id": "767f06cc-383a-4e46-832a-2a68fcf37fc9",
   "metadata": {},
   "outputs": [
    {
     "data": {
      "text/plain": [
       "1501"
      ]
     },
     "execution_count": 46,
     "metadata": {},
     "output_type": "execute_result"
    }
   ],
   "source": [
    "m.operation = lambda x: x * 19\n",
    "m.operation(79)"
   ]
  },
  {
   "cell_type": "code",
   "execution_count": null,
   "id": "83914ecd-9e5b-45a6-b39f-a0c034a9c962",
   "metadata": {},
   "outputs": [],
   "source": []
  }
 ],
 "metadata": {
  "kernelspec": {
   "display_name": "Python 3",
   "language": "python",
   "name": "python3"
  },
  "language_info": {
   "codemirror_mode": {
    "name": "ipython",
    "version": 3
   },
   "file_extension": ".py",
   "mimetype": "text/x-python",
   "name": "python",
   "nbconvert_exporter": "python",
   "pygments_lexer": "ipython3",
   "version": "3.10.6"
  }
 },
 "nbformat": 4,
 "nbformat_minor": 5
}
