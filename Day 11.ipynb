{
 "cells": [
  {
   "cell_type": "markdown",
   "id": "1a555dfb-1d50-4a4b-90a5-b680df086311",
   "metadata": {},
   "source": [
    "# Day 11: Monkey in the Middle"
   ]
  },
  {
   "cell_type": "code",
   "execution_count": 109,
   "id": "86e7b0a9-8f7a-42aa-9b50-99993abe3623",
   "metadata": {},
   "outputs": [],
   "source": [
    "test_data = [line.strip() for line in open('Input/Day 11 Test.txt')]\n",
    "real_data = [line.strip() for line in open('Input/Day 11.txt')]\n",
    "data = test_data.copy()"
   ]
  },
  {
   "cell_type": "code",
   "execution_count": 236,
   "id": "f7d8e42e-ec9d-4f45-bd0c-9642cdabc689",
   "metadata": {},
   "outputs": [],
   "source": [
    "import re\n",
    "from tqdm.notebook import tqdm"
   ]
  },
  {
   "cell_type": "code",
   "execution_count": 232,
   "id": "2909cece-1abc-4465-8c86-4639c8d413c3",
   "metadata": {},
   "outputs": [],
   "source": [
    "class Monkey:\n",
    "    def __init__(self, id):\n",
    "        self.id = id\n",
    "        self.counter = 0\n",
    "    \n",
    "    def __repr__(self):\n",
    "        return f\"Monkey({self.id})\"\n",
    "    \n",
    "    def describe(self):\n",
    "        return f'id:      {self.id}\\n' \\\n",
    "             + f'items:   {self.items}\\n' \\\n",
    "             + f'oper:    {self.operation}\\n' \\\n",
    "             + f'test:    {self.test}\\n' \\\n",
    "             + f'actions: {self.true_action}/{self.false_action}'\n",
    "    \n",
    "    def turn(self):\n",
    "        throw_list = [self.process_item(item) for item in self.items]\n",
    "        self.items = []\n",
    "        return throw_list\n",
    "    \n",
    "    def process_item(self, item):\n",
    "        item = self.inspect_item(item)\n",
    "        if self.test_item(item):\n",
    "            return (self.true_action[1], item)\n",
    "        else:\n",
    "            return (self.false_action[1], item)\n",
    "        \n",
    "    def test_item(self, item):\n",
    "        if self.test[0] == 'divisible':\n",
    "            return item % self.test[1] == 0\n",
    "        else:\n",
    "            raise ValueError('Unknown test \"{self.test[0]}\" for Monkey({self.id})')\n",
    "        \n",
    "    def inspect_item(self, item):\n",
    "        self.counter += 1\n",
    "        operation = self.operation[0]\n",
    "        parameter = item if self.operation[1] == 'old' else int(self.operation[1])\n",
    "        if operation == '*':\n",
    "            return (item * parameter) // 3\n",
    "        elif operation == '+':\n",
    "            return (item + parameter) // 3\n",
    "        else:\n",
    "            raise ValueError(f'Unknown operation \"{operation} for Monkey({self.id})')\n",
    "\n",
    "def show_items(monkeys):\n",
    "    for idx in sorted(monkeys):\n",
    "        m = monkeys[idx]\n",
    "        print(f'{m.id:2}: {m.items}')\n",
    "        \n",
    "def monkey_round(monkeys):\n",
    "    for idx in sorted(monkeys):\n",
    "        m = monkeys[idx]\n",
    "        throw_list = m.turn()\n",
    "        # print(f'{idx}: {throw_list}')\n",
    "        for recipient, item in throw_list:\n",
    "            monkeys[recipient].items.append(item)\n",
    "\n",
    "            \n",
    "class Monkey2(Monkey):\n",
    "    def inspect_item(self, item):\n",
    "        self.counter += 1\n",
    "        operation = self.operation[0]\n",
    "        parameter = item if self.operation[1] == 'old' else int(self.operation[1])\n",
    "        if operation == '*':\n",
    "            return (item * parameter)\n",
    "        elif operation == '+':\n",
    "            return (item + parameter)\n",
    "        else:\n",
    "            raise ValueError(f'Unknown operation \"{operation} for Monkey({self.id})')\n",
    "    "
   ]
  },
  {
   "cell_type": "code",
   "execution_count": 209,
   "id": "41b502d6-52d0-499b-9a61-371ce472c94c",
   "metadata": {},
   "outputs": [],
   "source": [
    "# parse input data\n",
    "def parse(data, MClass=Monkey):\n",
    "    monkeys = {}\n",
    "    for line in data:\n",
    "        if match := re.search(r'monkey (\\d+):', line, flags=re.I):\n",
    "            monkey = MClass(int(match.group(1)))\n",
    "            monkeys[monkey.id] = monkey\n",
    "        elif match := re.search(r'starting items: ((\\d+[,\\s]*)+)', line, flags=re.I):\n",
    "            monkey.items = [int(item) for item in match.group(1).split(', ')]\n",
    "        elif match := re.search(r'operation: new = old (.) (.*)', line, flags=re.I):\n",
    "            monkey.operation = (match.group(1), match.group(2))\n",
    "        elif match := re.search(r'test: (\\w*) .* (\\d*)', line, flags=re.I):\n",
    "            monkey.test = (match.group(1), int(match.group(2)))\n",
    "        elif match := re.search(r'if true: (\\w*) to monkey (\\d*)', line, flags=re.I):\n",
    "            monkey.true_action = (match.group(1), int(match.group(2)))\n",
    "        elif match := re.search(r'if false: (\\w*) to monkey (\\d*)', line, flags=re.I):\n",
    "            monkey.false_action = (match.group(1), int(match.group(2)))\n",
    "    return monkeys"
   ]
  },
  {
   "cell_type": "code",
   "execution_count": 181,
   "id": "22f7aed5-4010-4a78-9349-1a71bbc969e5",
   "metadata": {},
   "outputs": [
    {
     "name": "stdout",
     "output_type": "stream",
     "text": [
      "Monkey business list\n",
      "----------------------------------------------------\n",
      "Monkey  0:          213\n",
      "Monkey  1:          194\n",
      "Monkey  2:          245\n",
      "Monkey  3:          217\n",
      "Monkey  4:          230\n",
      "Monkey  5:           46\n",
      "Monkey  6:          216\n",
      "Monkey  7:           28\n",
      "----------  ----------- +\n",
      "                 56,350\n",
      "\n",
      "Output for puzzle: 56350\n"
     ]
    }
   ],
   "source": [
    "monkeys = parse(real_data)\n",
    "for i in range(1, 21):\n",
    "    # print(f'Round {i:2}')\n",
    "    monkey_round(monkeys)\n",
    "    # show_items(monkeys)\n",
    "ttl = []\n",
    "print('Monkey business list')\n",
    "print('----------------------------------------------------')\n",
    "for i in monkeys:\n",
    "    print(f'Monkey {i:2}: {monkeys[i].counter:12,}')\n",
    "    ttl.append(monkeys[i].counter)\n",
    "ttl.sort(reverse=True)\n",
    "mb = ttl[0] * ttl[1]\n",
    "print('----------  ----------- +')\n",
    "print(f'           {mb:12,}')\n",
    "print(f'\\nOutput for puzzle: {mb}')\n"
   ]
  },
  {
   "cell_type": "markdown",
   "id": "dd8e171c-a6c1-4101-bcff-ccfee8681637",
   "metadata": {},
   "source": [
    "## Part 2"
   ]
  },
  {
   "cell_type": "code",
   "execution_count": 250,
   "id": "f2e752b1-3fd8-49c2-8f33-7c2eb8956b0b",
   "metadata": {},
   "outputs": [
    {
     "data": {
      "application/vnd.jupyter.widget-view+json": {
       "model_id": "839b0d98b3724dab8a34de0aeacb5d32",
       "version_major": 2,
       "version_minor": 0
      },
      "text/plain": [
       "  0%|          | 0/10000 [00:00<?, ?it/s]"
      ]
     },
     "metadata": {},
     "output_type": "display_data"
    },
    {
     "name": "stdout",
     "output_type": "stream",
     "text": [
      "Monkey business list\n",
      "----------------------------------------------------\n",
      "Monkey  0:      100,279\n",
      "Monkey  1:       66,247\n",
      "Monkey  2:      127,552\n",
      "Monkey  3:      104,753\n",
      "Monkey  4:      109,399\n",
      "Monkey  5:       36,509\n",
      "Monkey  6:      100,297\n",
      "Monkey  7:       27,340\n",
      "----------  ----------- +\n",
      "           13,954,061,248\n",
      "\n",
      "Output for puzzle: 13954061248\n"
     ]
    }
   ],
   "source": [
    "monkeys = supermonkeys()\n",
    "n = 10000\n",
    "for i in tqdm(range(n), total=n):\n",
    "    monkey_round(monkeys)\n",
    "ttl = []\n",
    "print('Monkey business list')\n",
    "print('----------------------------------------------------')\n",
    "for i in monkeys:\n",
    "    print(f'Monkey {i:2}: {monkeys[i].counter:12,}')\n",
    "    ttl.append(monkeys[i].counter)\n",
    "ttl.sort(reverse=True)\n",
    "mb = ttl[0] * ttl[1]\n",
    "print('----------  ----------- +')\n",
    "print(f'           {mb:12,}')\n",
    "print(f'\\nOutput for puzzle: {mb}')"
   ]
  },
  {
   "cell_type": "code",
   "execution_count": 228,
   "id": "eeac3e44-2dab-48ba-975e-357ec59d8c10",
   "metadata": {},
   "outputs": [],
   "source": [
    "class SuperMonkey:\n",
    "    def __init__(self):\n",
    "        self.counter = 0\n",
    "\n",
    "    def turn(self):\n",
    "        '''\n",
    "        self.calc: lambda calculating new stress level\n",
    "        self.test: lambda to test value\n",
    "        self.yes destination if test is true\n",
    "        self.no destination if test is false\n",
    "        '''\n",
    "\n",
    "        throw_list = []\n",
    "        for item in self.items:\n",
    "            value = self.calc(item)\n",
    "            if self.test(value):\n",
    "                throw_list.append((self.yes, value))\n",
    "            else:\n",
    "                throw_list.append((self.no, value))\n",
    "        self.counter += len(self.items)\n",
    "        self.items = []\n",
    "        return throw_list"
   ]
  },
  {
   "cell_type": "code",
   "execution_count": 243,
   "id": "1dc90c36-440c-4fe6-9802-40c8612f9959",
   "metadata": {},
   "outputs": [],
   "source": [
    "# test data\n",
    "def testmonkeys():\n",
    "    monkeys = {i: SuperMonkey() for i in range(4)}\n",
    "\n",
    "    monkeys[0].items = [79, 98]\n",
    "    monkeys[0].calc = lambda x: (x * 19) % 96577\n",
    "    monkeys[0].test = lambda x: x % 23 == 0\n",
    "    monkeys[0].yes = 2\n",
    "    monkeys[0].no = 3\n",
    "\n",
    "    monkeys[1].items = [54, 65, 75, 74]\n",
    "    monkeys[1].calc = lambda x: (x + 6) % 96577\n",
    "    monkeys[1].test = lambda x: x % 19 == 0\n",
    "    monkeys[1].yes = 2\n",
    "    monkeys[1].no = 0\n",
    "\n",
    "    monkeys[2].items = [79, 60, 97]\n",
    "    monkeys[2].calc = lambda x: (x * x) % 96577\n",
    "    monkeys[2].test = lambda x: x % 13 == 0\n",
    "    monkeys[2].yes = 1\n",
    "    monkeys[2].no = 3\n",
    "\n",
    "    monkeys[3].items = [74]\n",
    "    monkeys[3].calc = lambda x: (x + 3) % 96577\n",
    "    monkeys[3].test = lambda x: x % 17 == 0\n",
    "    monkeys[3].yes = 0\n",
    "    monkeys[3].no = 1\n",
    "\n",
    "    return monkeys"
   ]
  },
  {
   "cell_type": "code",
   "execution_count": 248,
   "id": "c8521b87-d38a-4e28-bc84-d4dd72f72aaa",
   "metadata": {},
   "outputs": [
    {
     "data": {
      "text/plain": [
       "9699690"
      ]
     },
     "execution_count": 248,
     "metadata": {},
     "output_type": "execute_result"
    }
   ],
   "source": [
    "11 * 19 * 5 * 2 * 13 * 7 * 3 * 17"
   ]
  },
  {
   "cell_type": "code",
   "execution_count": 249,
   "id": "8a9da7e2-0c93-4e79-a0da-c3bea25ea971",
   "metadata": {},
   "outputs": [],
   "source": [
    "def supermonkeys():\n",
    "    monkeys = {i: SuperMonkey() for i in range(8)}\n",
    "\n",
    "    monkeys[0].items = [97, 81, 57, 57, 91, 61]\n",
    "    monkeys[0].calc = lambda x: (x * 7) % 9699690\n",
    "    monkeys[0].test = lambda x: x % 11 == 0\n",
    "    monkeys[0].yes = 5\n",
    "    monkeys[0].no = 6\n",
    "\n",
    "    monkeys[1].items = [88, 62, 68, 90]\n",
    "    monkeys[1].calc = lambda x: (x * 17) % 9699690\n",
    "    monkeys[1].test = lambda x: x % 19 == 0\n",
    "    monkeys[1].yes = 4\n",
    "    monkeys[1].no = 2\n",
    "\n",
    "    monkeys[2].items = [74, 87]\n",
    "    monkeys[2].calc = lambda x: (x + 2) % 9699690\n",
    "    monkeys[2].test = lambda x: x % 5 == 0\n",
    "    monkeys[2].yes = 7\n",
    "    monkeys[2].no = 4\n",
    "\n",
    "    monkeys[3].items = [53, 81, 60, 87, 90, 99, 75]\n",
    "    monkeys[3].calc = lambda x: (x + 1) % 9699690\n",
    "    monkeys[3].test = lambda x: x % 2 == 0\n",
    "    monkeys[3].yes = 2\n",
    "    monkeys[3].no = 1\n",
    "\n",
    "    monkeys[4].items = [57]\n",
    "    monkeys[4].calc = lambda x: (x + 6) % 9699690\n",
    "    monkeys[4].test = lambda x: x % 13 == 0\n",
    "    monkeys[4].yes = 7\n",
    "    monkeys[4].no = 0\n",
    "\n",
    "    monkeys[5].items = [54, 84, 91, 55, 59, 72, 75, 70]\n",
    "    monkeys[5].calc = lambda x: (x * x) % 9699690\n",
    "    monkeys[5].test = lambda x: x % 7 == 0\n",
    "    monkeys[5].yes = 6\n",
    "    monkeys[5].no = 3\n",
    "\n",
    "    monkeys[6].items = [95, 79, 79, 68, 78]\n",
    "    monkeys[6].calc = lambda x: (x + 3) % 9699690\n",
    "    monkeys[6].test = lambda x: x % 3 == 0\n",
    "    monkeys[6].yes = 1\n",
    "    monkeys[6].no = 3\n",
    "\n",
    "    monkeys[7].items = [61, 97, 67]\n",
    "    monkeys[7].calc = lambda x: (x + 4) % 9699690\n",
    "    monkeys[7].test = lambda x: x % 17 == 0\n",
    "    monkeys[7].yes = 0\n",
    "    monkeys[7].no = 5\n",
    "    \n",
    "    return monkeys\n",
    "\n"
   ]
  },
  {
   "cell_type": "code",
   "execution_count": 203,
   "id": "884601bd-1238-46fc-ad7a-1cce5fc1fd87",
   "metadata": {},
   "outputs": [],
   "source": [
    "m = monkeys[0]"
   ]
  },
  {
   "cell_type": "code",
   "execution_count": 205,
   "id": "83804975-4d41-45f1-9a0d-1ab843dd8caa",
   "metadata": {},
   "outputs": [
    {
     "data": {
      "text/plain": [
       "[(3, 1140), (3, 1349), (3, 1539), (3, 1520)]"
      ]
     },
     "execution_count": 205,
     "metadata": {},
     "output_type": "execute_result"
    }
   ],
   "source": [
    "m.turn()"
   ]
  },
  {
   "cell_type": "code",
   "execution_count": 235,
   "id": "f3ce69e2-591f-4e63-b7ca-f87b3bb409ca",
   "metadata": {},
   "outputs": [
    {
     "data": {
      "text/plain": [
       "905"
      ]
     },
     "execution_count": 235,
     "metadata": {},
     "output_type": "execute_result"
    }
   ],
   "source": [
    "i"
   ]
  },
  {
   "cell_type": "code",
   "execution_count": null,
   "id": "0071a188-ed69-4979-85f1-2654db103489",
   "metadata": {},
   "outputs": [],
   "source": []
  }
 ],
 "metadata": {
  "kernelspec": {
   "display_name": "Python 3",
   "language": "python",
   "name": "python3"
  },
  "language_info": {
   "codemirror_mode": {
    "name": "ipython",
    "version": 3
   },
   "file_extension": ".py",
   "mimetype": "text/x-python",
   "name": "python",
   "nbconvert_exporter": "python",
   "pygments_lexer": "ipython3",
   "version": "3.10.6"
  }
 },
 "nbformat": 4,
 "nbformat_minor": 5
}
