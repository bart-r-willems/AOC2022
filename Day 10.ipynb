{
 "cells": [
  {
   "cell_type": "markdown",
   "id": "6ada932a-73e4-4b1b-8add-146c19750dcb",
   "metadata": {},
   "source": [
    "# Day 10: Cathode-Ray Tube"
   ]
  },
  {
   "cell_type": "code",
   "execution_count": 10,
   "id": "6c1c09c4-693d-4e70-89af-c1d5d3791939",
   "metadata": {},
   "outputs": [],
   "source": [
    "class CPU:\n",
    "    def __init__(self):\n",
    "        self.x = 1\n",
    "        self.cycle = 0\n",
    "        self.cycle_values = {}\n",
    "    \n",
    "    def process(self, command):\n",
    "        if command == 'noop':\n",
    "            self.cycle += 1\n",
    "            self.cycle_values[self.cycle] = self.x\n",
    "        elif command.startswith('addx'):\n",
    "            value = int(command.split(' ')[-1])\n",
    "            self.cycle_values[self.cycle + 1] = self.x\n",
    "            self.cycle_values[self.cycle + 2] = self.x\n",
    "            self.cycle += 2\n",
    "            self.x += value\n",
    "\n",
    "    @property\n",
    "    def status(self):\n",
    "        return f'PC  {self.cycle:4} CYCLES\\nXREG {self.x:3} DECIMAL'\n",
    "            "
   ]
  },
  {
   "cell_type": "markdown",
   "id": "c5bbf8e0-1439-4612-847c-2a0d24cbbf47",
   "metadata": {},
   "source": [
    "## First test"
   ]
  },
  {
   "cell_type": "code",
   "execution_count": 11,
   "id": "582acce8-c142-4e3b-9ded-8dc0c8624785",
   "metadata": {},
   "outputs": [
    {
     "name": "stdout",
     "output_type": "stream",
     "text": [
      "PC     5 CYCLES\n",
      "XREG  -1 DECIMAL\n"
     ]
    }
   ],
   "source": [
    "test_data = 'noop\\naddx 3\\naddx -5'.split('\\n')\n",
    "data = test_data\n",
    "\n",
    "cpu = CPU()\n",
    "for command in data:\n",
    "    cpu.process(command)\n",
    "    \n",
    "print(cpu.status)"
   ]
  },
  {
   "cell_type": "markdown",
   "id": "914fe76d-0ca6-4c28-813a-fc9516925741",
   "metadata": {},
   "source": [
    "## Second test"
   ]
  },
  {
   "cell_type": "code",
   "execution_count": 12,
   "id": "cc03a006-8572-41f3-87b9-b2d44d0a75e2",
   "metadata": {},
   "outputs": [],
   "source": [
    "test_data = [line.strip() for line in open('Input/Day 10 Test.txt')]\n",
    "data = test_data\n",
    "\n",
    "cpu = CPU()\n",
    "for command in data:\n",
    "    cpu.process(command)\n",
    "\n",
    "ttl = 0\n",
    "for i in range(20, len(cpu.cycle_values), 40):\n",
    "    print(f'{i:3} - {cpu.cycle_values[i]:3} - {i * cpu.cycle_values[i]:5}')\n",
    "    ttl += i * cpu.cycle_values[i]\n",
    "print('            ----- +')\n",
    "print(f'            {ttl:5}')"
   ]
  },
  {
   "cell_type": "markdown",
   "id": "86dec15d-b8ea-442b-b917-cf26c8c9b89b",
   "metadata": {},
   "source": [
    "## Part 1"
   ]
  },
  {
   "cell_type": "code",
   "execution_count": 17,
   "id": "bd940770-7965-4834-afd3-5ef3cf6e246c",
   "metadata": {},
   "outputs": [
    {
     "name": "stdout",
     "output_type": "stream",
     "text": [
      " 20 -  21 -   420\n",
      " 60 -  21 -  1260\n",
      "100 -  21 -  2100\n",
      "140 -  16 -  2240\n",
      "180 -  21 -  3780\n",
      "220 -  21 -  4620\n",
      "            ----- +\n",
      "            14420\n"
     ]
    }
   ],
   "source": [
    "real_data = [line.strip() for line in open('Input/Day 10.txt')]\n",
    "data = real_data\n",
    "\n",
    "cpu = CPU()\n",
    "for command in data:\n",
    "    cpu.process(command)\n",
    "\n",
    "ttl = 0\n",
    "for i in range(20, 221, 40):\n",
    "    print(f'{i:3} - {cpu.cycle_values[i]:3} - {i * cpu.cycle_values[i]:5}')\n",
    "    ttl += i * cpu.cycle_values[i]\n",
    "print('            ----- +')\n",
    "print(f'            {ttl:5}')"
   ]
  },
  {
   "cell_type": "markdown",
   "id": "52518bfd-31f0-4856-bcd7-5181f2efa948",
   "metadata": {},
   "source": [
    "## Part 2"
   ]
  },
  {
   "cell_type": "code",
   "execution_count": 22,
   "id": "d0ab05d7-c7dd-4cf1-9462-affadd3e2e0f",
   "metadata": {},
   "outputs": [],
   "source": [
    "test_data = [line.strip() for line in open('Input/Day 10 Test.txt')]\n",
    "data = test_data"
   ]
  },
  {
   "cell_type": "code",
   "execution_count": 24,
   "id": "272375ec-c3c2-4c2d-8d90-3746d70ac901",
   "metadata": {},
   "outputs": [
    {
     "name": "stdout",
     "output_type": "stream",
     "text": [
      "##..##..##..##..##..##..##..##..##..##..\n",
      "###...###...###...###...###...###...###.\n",
      "####....####....####....####....####....\n",
      "#####.....#####.....#####.....#####.....\n",
      "######......######......######......####\n",
      "#######.......#######.......#######.....\n"
     ]
    }
   ],
   "source": [
    "cpu = CPU()\n",
    "for command in data:\n",
    "    cpu.process(command)\n",
    "    \n",
    "# construct the screen\n",
    "rows = []\n",
    "for i in range(240):\n",
    "    xpos = i % 40\n",
    "    if xpos % 40 == 0:\n",
    "        rows.append([])\n",
    "    v = cpu.cycle_values[i + 1] \n",
    "    if xpos in (v - 1, v, v + 1):\n",
    "        rows[-1].append(\"#\")\n",
    "    else:\n",
    "        rows[-1].append(\".\")\n",
    "\n",
    "# draw the screen\n",
    "for row in rows:\n",
    "    print(''.join(row))\n",
    "    "
   ]
  },
  {
   "cell_type": "markdown",
   "id": "ec8abc3b-8ada-49df-8040-5e6cdc48245a",
   "metadata": {},
   "source": [
    "## Part 2 final run"
   ]
  },
  {
   "cell_type": "code",
   "execution_count": 31,
   "id": "599dea5c-b430-4571-83fc-ed70f4149efe",
   "metadata": {},
   "outputs": [
    {
     "name": "stdout",
     "output_type": "stream",
     "text": [
      "███░░░██░░█░░░░███░░███░░████░░██░░█░░█░\n",
      "█░░█░█░░█░█░░░░█░░█░█░░█░░░░█░█░░█░█░░█░\n",
      "█░░█░█░░░░█░░░░█░░█░███░░░░█░░█░░█░█░░█░\n",
      "███░░█░██░█░░░░███░░█░░█░░█░░░████░█░░█░\n",
      "█░█░░█░░█░█░░░░█░█░░█░░█░█░░░░█░░█░█░░█░\n",
      "█░░█░░███░████░█░░█░███░░████░█░░█░░██░░\n"
     ]
    }
   ],
   "source": [
    "real_data = [line.strip() for line in open('Input/Day 10.txt')]\n",
    "data = real_data\n",
    "\n",
    "cpu = CPU()\n",
    "for command in data:\n",
    "    cpu.process(command)\n",
    "    \n",
    "# construct the screen\n",
    "rows = []\n",
    "for i in range(240):\n",
    "    xpos = i % 40\n",
    "    if xpos % 40 == 0:\n",
    "        rows.append([])\n",
    "    v = cpu.cycle_values[i + 1] \n",
    "    if xpos in (v - 1, v, v + 1):\n",
    "        rows[-1].append(\"█\")\n",
    "    else:\n",
    "        rows[-1].append(\"░\")\n",
    "\n",
    "# draw the screen\n",
    "for row in rows:\n",
    "    print(''.join(row))"
   ]
  },
  {
   "cell_type": "markdown",
   "id": "cd16cc3d-f041-45bd-a6ea-37d7f5e49332",
   "metadata": {},
   "source": [
    "RGLRBZAU"
   ]
  },
  {
   "cell_type": "code",
   "execution_count": null,
   "id": "41b1eb21-7140-4cf3-989e-171da90402cc",
   "metadata": {},
   "outputs": [],
   "source": []
  }
 ],
 "metadata": {
  "kernelspec": {
   "display_name": "Python 3",
   "language": "python",
   "name": "python3"
  },
  "language_info": {
   "codemirror_mode": {
    "name": "ipython",
    "version": 3
   },
   "file_extension": ".py",
   "mimetype": "text/x-python",
   "name": "python",
   "nbconvert_exporter": "python",
   "pygments_lexer": "ipython3",
   "version": "3.10.6"
  }
 },
 "nbformat": 4,
 "nbformat_minor": 5
}
