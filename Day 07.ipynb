{
 "cells": [
  {
   "cell_type": "markdown",
   "id": "8e759946-fab8-40fe-a0ac-791833f8cd5c",
   "metadata": {},
   "source": [
    "# Day 7"
   ]
  },
  {
   "cell_type": "code",
   "execution_count": 12,
   "id": "f6ad3b0b-7a5e-4cf3-9481-b07f8a5fff9b",
   "metadata": {},
   "outputs": [],
   "source": [
    "test_data = '''$ cd /\n",
    "$ ls\n",
    "dir a\n",
    "14848514 b.txt\n",
    "8504156 c.dat\n",
    "dir d\n",
    "$ cd a\n",
    "$ ls\n",
    "dir e\n",
    "29116 f\n",
    "2557 g\n",
    "62596 h.lst\n",
    "$ cd e\n",
    "$ ls\n",
    "584 i\n",
    "$ cd ..\n",
    "$ cd ..\n",
    "$ cd d\n",
    "$ ls\n",
    "4060174 j\n",
    "8033020 d.log\n",
    "5626152 d.ext\n",
    "7214296 k'''.split('\\n')"
   ]
  },
  {
   "cell_type": "code",
   "execution_count": 13,
   "id": "e571a59c-e6c2-4f9f-8fc7-348ffba8d2f8",
   "metadata": {},
   "outputs": [],
   "source": [
    "# data = test_data.copy()\n",
    "data = [line.strip() for line in open('Day 07 Input.txt')]"
   ]
  },
  {
   "cell_type": "code",
   "execution_count": 14,
   "id": "c84f87dc-e0e0-4059-8f08-dec14cd4b363",
   "metadata": {},
   "outputs": [],
   "source": [
    "class Directory:\n",
    "    def __init__(self, name, parent):\n",
    "        self._name = name\n",
    "        self.parent = parent\n",
    "        self.dirs = {}\n",
    "        self.files = {}\n",
    "    \n",
    "    def __repr__(self):\n",
    "        return f\"Directory('{self._name}')\"\n",
    "\n",
    "    def add_dir(self, name):\n",
    "        if name in self.dirs:\n",
    "            raise ValueError(f'Directory {name} already exists in {self.name}')\n",
    "        new_dir = Directory(name, self)\n",
    "        self.dirs[name] = new_dir\n",
    "\n",
    "    def add_file(self, name, size):\n",
    "        if name in self.files:\n",
    "            raise ValueError(f'File {name} already exists in {self.name}')\n",
    "        new_file = File(name, size, self)\n",
    "        self.files[name] = new_file\n",
    "    \n",
    "    @property\n",
    "    def name(self):\n",
    "        if self.parent is None:\n",
    "            return '/'\n",
    "        else: \n",
    "            return self.parent.name + self._name + '/'\n",
    "\n",
    "    @property\n",
    "    def size(self):\n",
    "        file_size = sum(f.size for f in self.files.values())\n",
    "        dir_size = sum(d.size for d in self.dirs.values())\n",
    "        return file_size + dir_size\n",
    "\n",
    "class File:\n",
    "    def __init__(self, name, size, parent):\n",
    "        self.name = name\n",
    "        self.size = size\n",
    "        self.parent = parent\n",
    "\n"
   ]
  },
  {
   "cell_type": "code",
   "execution_count": 15,
   "id": "48d07719-cfec-4e8b-aee8-de7103661a3c",
   "metadata": {},
   "outputs": [],
   "source": [
    "root = Directory('root', None)\n",
    "curdir = root\n",
    "for cli_line in data:\n",
    "    if cli_line.startswith('$ cd'):\n",
    "        # a command; process it\n",
    "        tgt = cli_line.split(' ', maxsplit=2)[-1]\n",
    "        if tgt == '/':\n",
    "            curdir = root\n",
    "        elif tgt == '..':\n",
    "            curdir = curdir.parent\n",
    "        else:\n",
    "            curdir = curdir.dirs[tgt]\n",
    "        # print(f'switched to {curdir.name}')\n",
    "    elif cli_line.startswith('$ ls'):\n",
    "        # no action needed\n",
    "        pass\n",
    "    elif cli_line.startswith('$'):\n",
    "        # unhandlses commands\n",
    "        pass\n",
    "    elif cli_line.startswith('dir'):\n",
    "        # directory entry; add\n",
    "        _, name = cli_line.split(' ', maxsplit=1)\n",
    "        curdir.add_dir(name)\n",
    "    else:\n",
    "        # file entry; add\n",
    "        size, name = cli_line.split(' ', maxsplit=1)\n",
    "        size = int(size)\n",
    "        curdir.add_file(name, size)"
   ]
  },
  {
   "cell_type": "markdown",
   "id": "7a715a99-f8d4-43e4-b3a4-33c3c137b528",
   "metadata": {},
   "source": [
    "## Part 1"
   ]
  },
  {
   "cell_type": "code",
   "execution_count": 16,
   "id": "d40f0395-9044-4626-b359-34022eb414ec",
   "metadata": {},
   "outputs": [
    {
     "name": "stdout",
     "output_type": "stream",
     "text": [
      "\n",
      "Smaller:\n",
      "/cwdpn/mnm/rtpjd/pnrbvd/                                      99,117\n",
      "/cwdpn/nmsvc/jtqgbwhb/bjnvmpc/dbglngc/hbfbvdr/                36,586\n",
      "/cwdpn/nmsvc/jtqgbwhb/bjnvmpc/dbglngc/tlsd/                   78,854\n",
      "/cwdpn/nmsvc/jtqgbwhb/fmtpwm/ggpctlh/rdmgrtzl/                28,086\n",
      "/cwdpn/nmsvc/ltqjb/qjgbt/vjrdcjbr/swvlpql/lqrf/               26,615\n",
      "/cwdpn/nmsvc/ltqjb/rstzf/bjnvmpc/mtctn/nfb/bqjczmcr/          19,020\n",
      "/cwdpn/nmsvc/ltqjb/rstzf/bjnvmpc/rjcpn/llpmvt/bhdpfpb/        78,642\n",
      "/cwdpn/nmsvc/ltqjb/rstzf/fwmvpthq/llpmvt/bgvjb/gjtj/          74,258\n",
      "/cwdpn/nmsvc/ltqjb/rstzf/fwmvpthq/pnrbvd/nmsvc/               40,100\n",
      "/cwdpn/nmsvc/ltqjb/rstzf/mpz/gdfwttff/                        40,626\n",
      "/cwdpn/nmsvc/ltqjb/rstzf/mpz/njptwz/jstfcllw/                 69,007\n",
      "/cwdpn/nmsvc/ltqjb/rstzf/mpz/njptwz/                          69,007\n",
      "/cwdpn/nmsvc/ltqjb/rstzf/rmrngqdg/wvg/hlwjtqzj/                9,887\n",
      "/fqflwvh/jzwwgjh/                                             80,522\n",
      "/fqflwvh/nfh/bfj/bzrfbfp/                                     34,834\n",
      "/fqflwvh/nfh/bfj/pnrbvd/                                      68,732\n",
      "/fqflwvh/nfh/bfj/rbq/                                         91,779\n",
      "/fqflwvh/nfh/qhn/fsgn/hjgphwdc/                               72,389\n",
      "/fqflwvh/nfh/qhn/svzhc/hpp/pwg/                               45,034\n",
      "/fqflwvh/nfh/qhn/vblpsfqz/                                    54,358\n",
      "/jstfcllw/fnnjdr/bjnvmpc/ftlf/rrdzzgtg/                       43,707\n",
      "/jstfcllw/fnnjdr/bjnvmpc/ftlf/                                43,707\n",
      "/jstfcllw/fnnjdr/bjnvmpc/rhzsnr/jstfcllw/fcbs/qtsrhfv/        94,962\n",
      "/jstfcllw/fnnjdr/bjnvmpc/rhzsnr/jstfcllw/fcbs/                94,962\n",
      "/jstfcllw/fnnjdr/bjnvmpc/rhzsnr/llpmvt/gdjshcz/               57,871\n",
      "/jstfcllw/fnnjdr/bjnvmpc/rhzsnr/sbsqrg/                       39,334\n",
      "/jstfcllw/fnnjdr/llpmvt/zgt/                                  44,873\n",
      "/jstfcllw/lpbrvhw/pszldqqh/                                   89,993\n",
      "/jstfcllw/pnrbvd/jsnfn/                                       30,250\n",
      "/lhltq/wwvlv/jstfcllw/                                        48,099\n",
      "/lhltq/wwvlv/                                                 92,102\n",
      "/tgmt/                                                        97,940\n",
      "/wcbq/bjnvmpc/hrjjrrvl/                                       94,221\n",
      "------------------------------------------------------- ------------ +\n",
      "TOTAL                                                      1,989,474\n"
     ]
    }
   ],
   "source": [
    "# find directories with a maximum size\n",
    "def find_dirs(top, *, max_size=None, min_size=None):\n",
    "    my_list = []\n",
    "    for d in top.dirs.values():\n",
    "        # process subdirs\n",
    "        my_list.extend(find_dirs(d, max_size=max_size, min_size=min_size))\n",
    "        if max_size and d.size <= max_size:\n",
    "            my_list.append(d)\n",
    "        if min_size and d.size >= min_size:\n",
    "            my_list.append(d)\n",
    "    return my_list\n",
    "\n",
    "my_list = find_dirs(root, max_size=100_000)\n",
    "text_size = 55\n",
    "total_size = 0\n",
    "print('\\nSmaller:')\n",
    "for d in my_list:\n",
    "    print(f'{d.name:{text_size}} {d.size:12,}')\n",
    "    total_size += d.size\n",
    "print('-' * text_size, '-' * 12, '+')\n",
    "print(f'{\"TOTAL\":{text_size}} {total_size:12,}')"
   ]
  },
  {
   "cell_type": "markdown",
   "id": "86edab88-cf94-4ff9-a7dc-6120289a1b18",
   "metadata": {},
   "source": [
    "## Part 2"
   ]
  },
  {
   "cell_type": "code",
   "execution_count": 17,
   "id": "ce6f687c-01a1-4891-9a4d-225ec45c4da8",
   "metadata": {},
   "outputs": [
    {
     "name": "stdout",
     "output_type": "stream",
     "text": [
      "Smallest directory to delete: Directory('ccbn')\n",
      "Total size: 1,111,607 -- 39,096 extra)\n"
     ]
    }
   ],
   "source": [
    "target_size = 30000000 - (70000000 - root.size)\n",
    "my_list = find_dirs(root, min_size=target_size)\n",
    "smallest = sorted(my_list, key=lambda d: d.size)[0]\n",
    "print(f'Smallest directory to delete: {smallest}')\n",
    "print(f'Total size: {smallest.size:,} -- {smallest.size - target_size:,} extra)')"
   ]
  },
  {
   "cell_type": "code",
   "execution_count": null,
   "id": "6a63469d-4f03-474d-a3b6-80e2a1210789",
   "metadata": {},
   "outputs": [],
   "source": []
  }
 ],
 "metadata": {
  "kernelspec": {
   "display_name": "Python 3",
   "language": "python",
   "name": "python3"
  },
  "language_info": {
   "codemirror_mode": {
    "name": "ipython",
    "version": 3
   },
   "file_extension": ".py",
   "mimetype": "text/x-python",
   "name": "python",
   "nbconvert_exporter": "python",
   "pygments_lexer": "ipython3",
   "version": "3.10.6"
  }
 },
 "nbformat": 4,
 "nbformat_minor": 5
}
