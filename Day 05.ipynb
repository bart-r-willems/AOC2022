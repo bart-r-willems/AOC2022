{
 "cells": [
  {
   "cell_type": "markdown",
   "id": "ee356074-d905-4bc7-89c4-cdd1bd441edd",
   "metadata": {},
   "source": [
    "# Day 5: Supply Stacks"
   ]
  },
  {
   "cell_type": "code",
   "execution_count": 35,
   "id": "e571488c-4e7e-443d-98e0-32556238c206",
   "metadata": {},
   "outputs": [
    {
     "name": "stdout",
     "output_type": "stream",
     "text": [
      "[V]     [B]                     [F]\n",
      "[N] [Q] [W]                 [R] [B]\n",
      "[F] [D] [S]     [B]         [L] [P]\n",
      "[S] [J] [C]     [F] [C]     [D] [G]\n",
      "[M] [M] [H] [L] [P] [N]     [P] [V]\n",
      "[P] [L] [D] [C] [T] [Q] [R] [S] [J]\n",
      "[H] [R] [Q] [S] [V] [R] [V] [Z] [S]\n",
      "[J] [S] [N] [R] [M] [T] [G] [C] [D]\n",
      "1   2   3   4   5   6   7   8   9\n",
      "1JHPMSFNV\n",
      "2SRLMJDQ\n",
      "3NQDHCSWB\n",
      "4RSCL\n",
      "5MVTPFB\n",
      "6TRQNC\n",
      "7GVR\n",
      "8CZSPDLR\n",
      "9DSJVGPBF\n",
      "Top crates:\n",
      "SBPQRSCDF\n"
     ]
    }
   ],
   "source": [
    "import re\n",
    "from collections import defaultdict, deque\n",
    "\n",
    "stacks  = defaultdict(deque)\n",
    "\n",
    "with open('Day 05 Input.txt', 'r') as f:\n",
    "    # read the stacks\n",
    "    for l in f:\n",
    "        if l == '\\n':\n",
    "            break\n",
    "        else:\n",
    "            print(l.strip())\n",
    "            for p in range(1, len(l), 4):\n",
    "                i = 1 + (p - 1) // 4\n",
    "                name = l[p]\n",
    "                if name != ' ':\n",
    "                    stacks[i].insert(0, l[p])\n",
    "                    \n",
    "    for i in sorted(stacks):\n",
    "        print(''.join(stacks[i]))\n",
    "\n",
    "    for l in f:\n",
    "        # print(l.strip())\n",
    "        parse = re.findall(r'move (\\d+) from (\\d+) to (\\d+)', l)\n",
    "        # print(parse)\n",
    "        amount, origin, destination = (int(s) for s in parse[0])\n",
    "        for _ in range(amount):\n",
    "            stacks[destination].append(stacks[origin].pop())\n",
    "                \n",
    "print('Top crates:')    \n",
    "print(''.join([stacks[i][-1] for i in sorted(stacks)]))   "
   ]
  },
  {
   "cell_type": "markdown",
   "id": "fe871541-4409-46b0-9c28-ded496b9ad0d",
   "metadata": {},
   "source": [
    "## Part 2"
   ]
  },
  {
   "cell_type": "code",
   "execution_count": 36,
   "id": "763a74df-ab10-45cb-84a7-c5dfadb9a226",
   "metadata": {},
   "outputs": [
    {
     "name": "stdout",
     "output_type": "stream",
     "text": [
      "1FRMDTSZDVCPJR\n",
      "2MBG\n",
      "3BNDVL\n",
      "4FNCV\n",
      "5LDMSGQR\n",
      "6CRTHHC\n",
      "7WSLSJVPQ\n",
      "8SPRPJQNFS\n",
      "9B\n",
      "Top crates:\n",
      "RGLVRCQSB\n"
     ]
    }
   ],
   "source": [
    "stacks  = defaultdict(deque)\n",
    "\n",
    "with open('Day 05 Input.txt', 'r') as f:\n",
    "    # read the stacks\n",
    "    for l in f:\n",
    "        if l == '\\n':\n",
    "            break\n",
    "        else:\n",
    "            for p in range(1, len(l), 4):\n",
    "                i = 1 + (p - 1) // 4\n",
    "                name = l[p]\n",
    "                if name != ' ':\n",
    "                    stacks[i].insert(0, l[p])\n",
    "    for l in f:\n",
    "        parse = re.findall(r'move (\\d+) from (\\d+) to (\\d+)', l)\n",
    "        amount, origin, destination = (int(s) for s in parse[0])\n",
    "        move_stack = reversed([stacks[origin].pop() for i in range(amount)])\n",
    "        stacks[destination].extend(move_stack)\n",
    "        \n",
    "                \n",
    "for i in sorted(stacks):\n",
    "    print(''.join(stacks[i]))\n",
    "\n",
    "print('Top crates:')\n",
    "print(''.join([stacks[i][-1] for i in sorted(stacks)]))     "
   ]
  }
 ],
 "metadata": {
  "kernelspec": {
   "display_name": "Python 3",
   "language": "python",
   "name": "python3"
  },
  "language_info": {
   "codemirror_mode": {
    "name": "ipython",
    "version": 3
   },
   "file_extension": ".py",
   "mimetype": "text/x-python",
   "name": "python",
   "nbconvert_exporter": "python",
   "pygments_lexer": "ipython3",
   "version": "3.10.6"
  }
 },
 "nbformat": 4,
 "nbformat_minor": 5
}
