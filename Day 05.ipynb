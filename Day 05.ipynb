{
 "cells": [
  {
   "cell_type": "markdown",
   "id": "ee356074-d905-4bc7-89c4-cdd1bd441edd",
   "metadata": {},
   "source": [
    "# Day 5: Supply Stacks"
   ]
  },
  {
   "cell_type": "code",
   "execution_count": 12,
   "id": "e571488c-4e7e-443d-98e0-32556238c206",
   "metadata": {},
   "outputs": [
    {
     "name": "stdout",
     "output_type": "stream",
     "text": [
      "Top crates:\n",
      "SBPQRSCDF\n"
     ]
    }
   ],
   "source": [
    "import re\n",
    "from collections import defaultdict, deque\n",
    "\n",
    "stacks  = defaultdict(deque)\n",
    "\n",
    "with open('Day 05 Input.txt', 'r') as f:\n",
    "    # read the stacks\n",
    "    for line in f:\n",
    "        if line != '\\n':\n",
    "            for idx, pos in enumerate(range(1, len(line), 4), 1):\n",
    "                crate = line[pos]\n",
    "                if crate != ' ':\n",
    "                    stacks[idx].insert(0, crate)\n",
    "        else:\n",
    "            # done reading initial stacks, go to next phase\n",
    "            break\n",
    "                    \n",
    "    for line in f:\n",
    "        # print(l.strip())\n",
    "        parse = re.findall(r'\\d+', line)\n",
    "        # print(parse)\n",
    "        amount, origin, destination = map(int, parse)\n",
    "        for _ in range(amount):\n",
    "            stacks[destination].append(stacks[origin].pop())\n",
    "                \n",
    "print('Top crates:')    \n",
    "print(''.join([stacks[i][-1] for i in sorted(stacks)]))   "
   ]
  },
  {
   "cell_type": "markdown",
   "id": "fe871541-4409-46b0-9c28-ded496b9ad0d",
   "metadata": {},
   "source": [
    "## Part 2"
   ]
  },
  {
   "cell_type": "code",
   "execution_count": 14,
   "id": "763a74df-ab10-45cb-84a7-c5dfadb9a226",
   "metadata": {},
   "outputs": [
    {
     "name": "stdout",
     "output_type": "stream",
     "text": [
      "Top crates:\n",
      "RGLVRCQSB\n"
     ]
    }
   ],
   "source": [
    "stacks  = defaultdict(deque)\n",
    "\n",
    "with open('Day 05 Input.txt', 'r') as f:\n",
    "    # read the stacks\n",
    "    for line in f:\n",
    "        if line != '\\n':\n",
    "            for idx, pos in enumerate(range(1, len(line), 4), 1):\n",
    "                crate = line[pos]\n",
    "                if crate != ' ':\n",
    "                    stacks[idx].insert(0, crate)\n",
    "        else:\n",
    "            # done reading initial stacks, go to next phase\n",
    "            break\n",
    "\n",
    "    # read the rest of the input; process moves\n",
    "    for line in f:\n",
    "        # print(l.strip())\n",
    "        parse = re.findall(r'\\d+', line)\n",
    "        # print(parse)\n",
    "        amount, origin, destination = map(int, parse)\n",
    "        move_stack = reversed([stacks[origin].pop() for i in range(amount)])\n",
    "        stacks[destination].extend(move_stack)\n",
    "\n",
    "print('Top crates:')\n",
    "print(''.join([stacks[i][-1] for i in sorted(stacks)]))     "
   ]
  },
  {
   "cell_type": "code",
   "execution_count": null,
   "id": "9f1697fb-accd-4855-a4d0-3ad7c3734ffc",
   "metadata": {},
   "outputs": [],
   "source": []
  }
 ],
 "metadata": {
  "kernelspec": {
   "display_name": "Python 3",
   "language": "python",
   "name": "python3"
  },
  "language_info": {
   "codemirror_mode": {
    "name": "ipython",
    "version": 3
   },
   "file_extension": ".py",
   "mimetype": "text/x-python",
   "name": "python",
   "nbconvert_exporter": "python",
   "pygments_lexer": "ipython3",
   "version": "3.10.6"
  }
 },
 "nbformat": 4,
 "nbformat_minor": 5
}
