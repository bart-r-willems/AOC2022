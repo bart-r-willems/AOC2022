{
 "cells": [
  {
   "cell_type": "markdown",
   "id": "b95f3e0e-49c1-42a8-9ec0-78e924c337f6",
   "metadata": {},
   "source": [
    "# Day 9: Rope Bridge"
   ]
  },
  {
   "cell_type": "code",
   "execution_count": 63,
   "id": "e87e884e-1dc0-4b41-8407-9729d2651b26",
   "metadata": {},
   "outputs": [],
   "source": [
    "test_data = 'R 4\\nU 4\\nL 3\\nD 1\\nR 4\\nD 1\\nL 5\\nR 2'.split('\\n')\n",
    "input_data = [line.strip() for line in open('Input\\\\Day 09.txt')]\n",
    "data = input_data.copy()"
   ]
  },
  {
   "cell_type": "code",
   "execution_count": 64,
   "id": "7415ae2c-4c8c-4210-a0bb-1988fb07bb66",
   "metadata": {},
   "outputs": [],
   "source": [
    "def output(head, tail, visited=None, size=6):\n",
    "    if visited is None:\n",
    "        visited = set()\n",
    "    for y in range(0, size + 1):\n",
    "        for x in range(0, size):\n",
    "            if head == (x, size - y):\n",
    "                print('H', end='')\n",
    "            elif tail == (x, size - y):\n",
    "                print('T', end='')\n",
    "            elif (x, size - y) in visited:\n",
    "                print('#', end='')\n",
    "            else:\n",
    "                print('.', end='')\n",
    "        print('')\n",
    "        \n",
    "def new_pos(pos, direction):\n",
    "    vectors = {'U': (0, 1), 'R': (1, 0), 'D': (0, -1), 'L': (-1, 0),\n",
    "               'RU': (1, 1), 'RD': (1, -1), 'LU': (-1, 1), 'LD': (-1, -1)}\n",
    "    vector = vectors[direction]\n",
    "    return pos[0] + vector[0], pos[1] + vector[1]\n",
    "\n",
    "def delta(base, target):\n",
    "    '''Return P2 position rleative to p1'''\n",
    "    return target[0] - base[0], target[1] - base[1]\n",
    "\n",
    "def follow(head, tail):\n",
    "    actions = {\n",
    "        # depending on where the head is compared to the tail,\n",
    "        # decribe tail move required\n",
    "        (2, -2): 'RD', (1, -2):'RD', (0, -2): 'D', (-1, -2): 'LD', (-2, -2): 'LD',\n",
    "        (2, -1): 'RD',                                             (-2, -1): 'LD',\n",
    "        (2,  0): 'R',                                              (-2,  0): 'L',\n",
    "        (2,  1): 'RU',                                             (-2,  1): 'LU',\n",
    "        (2,  2): 'RU', (1, 2):'RU',  (0,  2): 'U', (-1,  2): 'LU', (-2,  2): 'LU'}\n",
    "    offset = delta(tail, head)\n",
    "    if offset in actions:\n",
    "        return new_pos(tail, actions[offset])\n",
    "    else:\n",
    "        return tail\n",
    "        \n",
    "    "
   ]
  },
  {
   "cell_type": "markdown",
   "id": "15f84451-ddef-40cf-b491-4a80d1ddfca2",
   "metadata": {},
   "source": [
    "## Part 1"
   ]
  },
  {
   "cell_type": "code",
   "execution_count": 65,
   "id": "be0ff2a5-8e46-43f1-ad00-730afb6ac654",
   "metadata": {},
   "outputs": [
    {
     "name": "stdout",
     "output_type": "stream",
     "text": [
      "CPU times: total: 0 ns\n",
      "Wall time: 0 ns\n",
      "Visited:6030\n"
     ]
    }
   ],
   "source": [
    "%time\n",
    "head = (0, 0)\n",
    "tail = (0, 0)\n",
    "visited = set()\n",
    "\n",
    "for turn, move in enumerate(data):\n",
    "    direction, distance = move.split(' ')\n",
    "    distance = int(distance)\n",
    "    for i in range(distance):\n",
    "        head = new_pos(head, direction)\n",
    "        tail = follow(head, tail)\n",
    "        visited.add(tail)\n",
    "    \n",
    "print(f'Visited:{len(visited)}')"
   ]
  },
  {
   "cell_type": "markdown",
   "id": "8c63641d-8f2b-4a64-bb9a-c8241479b357",
   "metadata": {},
   "source": [
    "## Part 2"
   ]
  },
  {
   "cell_type": "code",
   "execution_count": 59,
   "id": "a604dcef-0acc-46e3-95c7-f42c377b4067",
   "metadata": {},
   "outputs": [],
   "source": [
    "test_data = ['R 5' ,'U 8', 'L 8', 'D 3', 'R 17', 'D 10', 'L 25', 'U 20']\n",
    "data = input_data.copy()"
   ]
  },
  {
   "cell_type": "code",
   "execution_count": 66,
   "id": "34d2d4a0-60de-4a4b-9e4e-631fb3865fe2",
   "metadata": {},
   "outputs": [
    {
     "name": "stdout",
     "output_type": "stream",
     "text": [
      "CPU times: total: 0 ns\n",
      "Wall time: 0 ns\n",
      "Visited:2545\n"
     ]
    }
   ],
   "source": [
    "%time\n",
    "knots = 10\n",
    "head = (0, 0)\n",
    "tails = [(0, 0) for i in range(knots - 1)]\n",
    "visited = set()\n",
    "\n",
    "for turn, move in enumerate(data):\n",
    "    direction, distance = move.split(' ')\n",
    "    distance = int(distance)\n",
    "    for i in range(distance):\n",
    "        head = new_pos(head, direction)\n",
    "        for j in range(knots - 1):\n",
    "            tails[j] = follow(head if j==0 else tails[j - 1], tails[j])\n",
    "        visited.add(tails[-1])\n",
    "    \n",
    "print(f'Visited:{len(visited)}')"
   ]
  },
  {
   "cell_type": "code",
   "execution_count": 61,
   "id": "d80e70ae-8658-4dd2-856a-92f1561bdbea",
   "metadata": {},
   "outputs": [],
   "source": [
    "from matplotlib import pyplot as plt"
   ]
  },
  {
   "cell_type": "code",
   "execution_count": 62,
   "id": "62873ee9-bbe8-4fc0-97d8-8d5bbdc580f8",
   "metadata": {},
   "outputs": [
    {
     "data": {
      "text/plain": [
       "<matplotlib.collections.PathCollection at 0x1a0ec32f430>"
      ]
     },
     "execution_count": 62,
     "metadata": {},
     "output_type": "execute_result"
    },
    {
     "data": {
      "image/png": "[encoded data removed]",
      "text/plain": [
       "<Figure size 576x432 with 1 Axes>"
      ]
     },
     "metadata": {
      "needs_background": "light"
     },
     "output_type": "display_data"
    }
   ],
   "source": [
    "fig, ax = plt.subplots(figsize=(8, 6))\n",
    "plt.scatter(x=[p[0] for p in visited], y=[p[1] for p in visited], marker='s')"
   ]
  },
  {
   "cell_type": "code",
   "execution_count": null,
   "id": "742f0271-a712-4d5b-8aa6-d522197c66fa",
   "metadata": {},
   "outputs": [],
   "source": []
  }
 ],
 "metadata": {
  "kernelspec": {
   "display_name": "Python 3",
   "language": "python",
   "name": "python3"
  },
  "language_info": {
   "codemirror_mode": {
    "name": "ipython",
    "version": 3
   },
   "file_extension": ".py",
   "mimetype": "text/x-python",
   "name": "python",
   "nbconvert_exporter": "python",
   "pygments_lexer": "ipython3",
   "version": "3.10.6"
  }
 },
 "nbformat": 4,
 "nbformat_minor": 5
}
