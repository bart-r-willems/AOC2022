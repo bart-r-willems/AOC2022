{
 "cells": [
  {
   "cell_type": "markdown",
   "id": "957fc469-54de-4ea0-b727-a7196a6e88cd",
   "metadata": {},
   "source": [
    "# Day 4: Camp Cleanup"
   ]
  },
  {
   "cell_type": "code",
   "execution_count": 2,
   "id": "f51caaaa-e5d3-46ae-a809-abe0b555acb8",
   "metadata": {},
   "outputs": [],
   "source": [
    "pairing = [l.strip() for l in open('Day 04 Input.txt', 'r')]"
   ]
  },
  {
   "cell_type": "markdown",
   "id": "08da2c23-b271-4a65-a595-508dd868511f",
   "metadata": {},
   "source": [
    "## Solution integrates part 1 and part 2"
   ]
  },
  {
   "cell_type": "code",
   "execution_count": 3,
   "id": "17333b06-17ca-4868-8c07-26e7a7d4b36c",
   "metadata": {},
   "outputs": [
    {
     "name": "stdout",
     "output_type": "stream",
     "text": [
      "Part 1: 444\n",
      "Part 2: 801\n"
     ]
    }
   ],
   "source": [
    "def section(assignment: str) -> set:\n",
    "    '''\n",
    "    Translate the assignment for an elf into a set of sections\n",
    "    EG '2-5' returns {2. 3. 4. 5}\n",
    "    '''\n",
    "    left, right = [int(x) for x in assignment.split('-')]\n",
    "    return set(range(left, right + 1))\n",
    "\n",
    "def enclosed(section1: set, section2: set) -> bool:\n",
    "    '''\n",
    "    Return True if one section is completely enclosed by the other\n",
    "    '''\n",
    "    return len(section1 & section2) in (len(section1), len(section2))\n",
    "                                        \n",
    "def overlap(section1: set, section2: set) -> bool:\n",
    "    '''\n",
    "    Return True if both sets have values in common\n",
    "    '''\n",
    "    return len(section1 & section2) > 0\n",
    "                                        \n",
    "enclose_count = 0\n",
    "overlap_count = 0\n",
    "for pair in pairing:\n",
    "    sec1, sec2 = (section(elf) for elf in pair.split(','))\n",
    "    enclose_count += 1 if enclosed(sec1, sec2) else 0\n",
    "    overlap_count += 1 if overlap(sec1, sec2) else 0\n",
    "\n",
    "print('Part 1:', enclose_count)\n",
    "print('Part 2:', overlap_count)"
   ]
  },
  {
   "cell_type": "code",
   "execution_count": null,
   "id": "f6f051ee-7919-4e79-a586-a61892fbf319",
   "metadata": {},
   "outputs": [],
   "source": []
  },
  {
   "cell_type": "code",
   "execution_count": null,
   "id": "39b8d66d-638a-45fc-b21d-d1d305324da9",
   "metadata": {},
   "outputs": [],
   "source": []
  }
 ],
 "metadata": {
  "kernelspec": {
   "display_name": "Python 3",
   "language": "python",
   "name": "python3"
  },
  "language_info": {
   "codemirror_mode": {
    "name": "ipython",
    "version": 3
   },
   "file_extension": ".py",
   "mimetype": "text/x-python",
   "name": "python",
   "nbconvert_exporter": "python",
   "pygments_lexer": "ipython3",
   "version": "3.10.6"
  }
 },
 "nbformat": 4,
 "nbformat_minor": 5
}
